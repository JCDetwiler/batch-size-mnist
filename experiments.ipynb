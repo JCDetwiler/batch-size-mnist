{
 "cells": [
  {
   "cell_type": "markdown",
   "metadata": {},
   "source": [
    "## Adapted from Victor Zhou's CNN published at [this blog post](https://victorzhou.com/blog/keras-cnn-tutorial/)."
   ]
  },
  {
   "cell_type": "code",
   "execution_count": 10,
   "metadata": {},
   "outputs": [],
   "source": [
    "import math\n",
    "import mnist\n",
    "import numpy as np\n",
    "import time\n",
    "\n",
    "# Using tf.keras for Ghost Batch Norm capability.\n",
    "import tensorflow.keras.backend as K\n",
    "from tensorflow.keras.models import Sequential\n",
    "from tensorflow.keras.layers import Conv2D, MaxPooling2D, Dense, Flatten, BatchNormalization\n",
    "from tensorflow.keras.optimizers import SGD\n",
    "from tensorflow.keras.utils import to_categorical\n",
    "from tensorflow.keras.callbacks import LearningRateScheduler, Callback\n",
    "from tensorflow.keras.optimizers import Nadam\n",
    "\n",
    "import tensorflow as tf\n",
    "#print(tf.version)\n",
    "# Disable INFO and WARNING messages from TensorFlow.\n",
    "# Our Keras version (2.2.4 / TF 1.15.0) throws deprecation warnings.\n",
    "tf.logging.set_verbosity(tf.logging.ERROR)"
   ]
  },
  {
   "cell_type": "code",
   "execution_count": 11,
   "metadata": {},
   "outputs": [],
   "source": [
    "train_images = mnist.train_images() \n",
    "train_labels = mnist.train_labels()\n",
    "test_images = mnist.test_images()\n",
    "test_labels = mnist.test_labels()\n",
    "\n",
    "# Normalize the images.\n",
    "train_images = (train_images / 255) - 0.5\n",
    "test_images = (test_images / 255) - 0.5\n",
    "\n",
    "# Reshape the images.\n",
    "train_images = np.expand_dims(train_images, axis=3)\n",
    "test_images = np.expand_dims(test_images, axis=3)\n",
    "\n",
    "num_filters = 8\n",
    "filter_size = 3\n",
    "pool_size = 2"
   ]
  },
  {
   "cell_type": "code",
   "execution_count": 12,
   "metadata": {},
   "outputs": [],
   "source": [
    "# Build the model.\n",
    "batch_size = 100       # TODO: make this less arbitrary.\n",
    "ghost_batch_size = 10  # TODO: make this less arbitrary.\n",
    "\n",
    "model = Sequential([\n",
    "    # The authors required ghost batch normalization in their experiments.\n",
    "    # The papers they reference use normalization preceding each convolutional layer.\n",
    "    BatchNormalization(virtual_batch_size=ghost_batch_size),\n",
    "    Conv2D(filters=num_filters, kernel_size=filter_size, input_shape=(28, 28, 1)),\n",
    "    MaxPooling2D(pool_size=pool_size),\n",
    "    Flatten(),\n",
    "    Dense(units=10, activation='softmax'),\n",
    "])"
   ]
  },
  {
   "cell_type": "code",
   "execution_count": 13,
   "metadata": {},
   "outputs": [],
   "source": [
    "class TimeHistory(Callback):\n",
    "    def on_train_begin(self, logs={}):\n",
    "        self.time = 0\n",
    "\n",
    "    def on_epoch_begin(self, epoch, logs={}):\n",
    "        self.epoch_time_start = time.time()\n",
    "\n",
    "    def on_epoch_end(self, epoch, logs={}):\n",
    "        self.time += time.time() - self.epoch_time_start"
   ]
  },
  {
   "cell_type": "code",
   "execution_count": 14,
   "metadata": {},
   "outputs": [],
   "source": [
    "# Adapted from https://machinelearningmastery.com/using-learning-rate-schedules-deep-learning-models-python-keras/\n",
    "def step_lr_decay(epoch):\n",
    "    # This starts with a learning rate higher than the default learning rate in\n",
    "    # Vanilla SGD. It drops by a factor of 5 each step, and I chose to drop after\n",
    "    # every other epoch to make training not take too long on a laptop.\n",
    "    # Think of this as a half-life equation.\n",
    "    initial_lrate=0.15\n",
    "    drop=0.2\n",
    "    epochs_drop=2.0\n",
    "    current_rate = initial_lrate * math.pow(drop, math.floor(epoch / epochs_drop))\n",
    "    print(\"Epoch %d learning rate: %f\" % (epoch + 1, current_rate))\n",
    "    return current_rate"
   ]
  },
  {
   "cell_type": "code",
   "execution_count": 15,
   "metadata": {},
   "outputs": [],
   "source": [
    "# Compile the model.\n",
    "epochs = 6            # Run enough epochs to test the training schedule.\n",
    "learning_rate = 0.00  # Will be overrided by the scheduler.\n",
    "decay_rate = 0.00     # Default decay rate.\n",
    "momentum = 0.0        # Default momentum.\n",
    "\n",
    "sgd = SGD(lr=learning_rate, momentum=momentum, decay=decay_rate, nesterov=False)\n",
    "\n",
    "model.compile(\n",
    "    optimizer=sgd,  # Vanilla SGD experiment.\n",
    "    loss='categorical_crossentropy',\n",
    "    metrics=['accuracy'],\n",
    ")"
   ]
  },
  {
   "cell_type": "markdown",
   "metadata": {},
   "source": [
    "## Experiment 1: Vanilla SGD, decaying learning rate."
   ]
  },
  {
   "cell_type": "code",
   "execution_count": 25,
   "metadata": {},
   "outputs": [
    {
     "name": "stdout",
     "output_type": "stream",
     "text": [
      "Train on 60000 samples, validate on 10000 samples\n",
      "Epoch 1 learning rate: 0.150000\n",
      "Epoch 1/6\n",
      "60000/60000 [==============================] - 6s 103us/sample - loss: 0.0674 - acc: 0.9784 - val_loss: 0.0983 - val_acc: 0.9716\n",
      "Epoch 2 learning rate: 0.150000\n",
      "Epoch 2/6\n",
      "60000/60000 [==============================] - 6s 103us/sample - loss: 0.0596 - acc: 0.9813 - val_loss: 0.1030 - val_acc: 0.9680\n",
      "Epoch 3 learning rate: 0.030000\n",
      "Epoch 3/6\n",
      "60000/60000 [==============================] - 6s 102us/sample - loss: 0.0393 - acc: 0.9883 - val_loss: 0.0703 - val_acc: 0.9777\n",
      "Epoch 4 learning rate: 0.030000\n",
      "Epoch 4/6\n",
      "60000/60000 [==============================] - 6s 102us/sample - loss: 0.0357 - acc: 0.9892 - val_loss: 0.0710 - val_acc: 0.9782\n",
      "Epoch 5 learning rate: 0.006000\n",
      "Epoch 5/6\n",
      "60000/60000 [==============================] - 6s 103us/sample - loss: 0.0309 - acc: 0.9913 - val_loss: 0.0714 - val_acc: 0.9790\n",
      "Epoch 6 learning rate: 0.006000\n",
      "Epoch 6/6\n",
      "60000/60000 [==============================] - 6s 103us/sample - loss: 0.0306 - acc: 0.9915 - val_loss: 0.0716 - val_acc: 0.9786\n"
     ]
    }
   ],
   "source": [
    "# Train the model.\n",
    "decay_lr_scheduler = LearningRateScheduler(step_lr_decay)\n",
    "time_callback = TimeHistory()\n",
    "\n",
    "exp1_results = model.fit(\n",
    "    train_images,\n",
    "    to_categorical(train_labels),\n",
    "    epochs=epochs,\n",
    "    batch_size=batch_size,\n",
    "    validation_data=(test_images, to_categorical(test_labels)),\n",
    "    callbacks=[decay_lr_scheduler, time_callback]\n",
    ")"
   ]
  },
  {
   "cell_type": "code",
   "execution_count": 29,
   "metadata": {},
   "outputs": [
    {
     "name": "stdout",
     "output_type": "stream",
     "text": [
      "{'loss': [0.06736787345260381, 0.05963184365537018, 0.039347675731793666, 0.035670843080539874, 0.030855697980732656, 0.030605852184817196], 'acc': [0.9783667, 0.9812667, 0.98833334, 0.9891667, 0.9913333, 0.99151665], 'val_loss': [0.09833866209723055, 0.1029838312510401, 0.07025660925079137, 0.07104017056524753, 0.07137862604577094, 0.07156287543708459], 'val_acc': [0.9716, 0.968, 0.9777, 0.9782, 0.979, 0.9786], 'lr': [0.15, 0.15, 0.03, 0.03, 0.006, 0.006]}\n",
      "\n",
      "36.933000326156616\n"
     ]
    }
   ],
   "source": [
    "print(exp1_results.history)\n",
    "print(\"\")\n",
    "print(time_callback.time)\n",
    "times = []\n",
    "times.append(time_callback.time)"
   ]
  },
  {
   "cell_type": "markdown",
   "metadata": {},
   "source": [
    "## Experiment 2: Vanilla SGD, increasing batch size."
   ]
  },
  {
   "cell_type": "code",
   "execution_count": 30,
   "metadata": {},
   "outputs": [],
   "source": [
    "# Keras has no built in for this. \n",
    "# Code is from https://www.codementor.io/nitinsurya/how-to-re-initialize-keras-model-weights-et41zre2g\n",
    "def reset_weights(model):\n",
    "    session = K.get_session()\n",
    "    for layer in model.layers: \n",
    "        if hasattr(layer, 'kernel_initializer'):\n",
    "            layer.kernel.initializer.run(session=session)"
   ]
  },
  {
   "cell_type": "code",
   "execution_count": 33,
   "metadata": {},
   "outputs": [
    {
     "name": "stdout",
     "output_type": "stream",
     "text": [
      "Train on 60000 samples, validate on 10000 samples\n",
      "Epoch 1/2\n",
      "60000/60000 [==============================] - 6s 103us/sample - loss: 0.2594 - acc: 0.9236 - val_loss: 0.1388 - val_acc: 0.9596\n",
      "Epoch 2/2\n",
      "60000/60000 [==============================] - 6s 102us/sample - loss: 0.1206 - acc: 0.9644 - val_loss: 0.0994 - val_acc: 0.9701\n",
      "12.291000127792358\n",
      "Train on 60000 samples, validate on 10000 samples\n",
      "Epoch 1/2\n",
      "60000/60000 [==============================] - 6s 94us/sample - loss: 0.0808 - acc: 0.9769 - val_loss: 0.0861 - val_acc: 0.9729\n",
      "Epoch 2/2\n",
      "60000/60000 [==============================] - 6s 94us/sample - loss: 0.0747 - acc: 0.9788 - val_loss: 0.0795 - val_acc: 0.9741\n",
      "23.546000003814697\n",
      "Train on 60000 samples, validate on 10000 samples\n",
      "Epoch 1/2\n",
      "60000/60000 [==============================] - 5s 82us/sample - loss: 0.0676 - acc: 0.9811 - val_loss: 0.0788 - val_acc: 0.9752\n",
      "Epoch 2/2\n",
      "60000/60000 [==============================] - 5s 82us/sample - loss: 0.0668 - acc: 0.9812 - val_loss: 0.0783 - val_acc: 0.9746\n",
      "33.39100003242493\n"
     ]
    }
   ],
   "source": [
    "reset_weights(model)\n",
    "learning_rate = 0.07  # Set a new constant.\n",
    "sgd = SGD(lr=learning_rate, momentum=momentum, decay=decay_rate, nesterov=False)\n",
    "\n",
    "model.compile(\n",
    "    optimizer=sgd,  # Vanilla SGD experiment.\n",
    "    loss='categorical_crossentropy',\n",
    "    metrics=['accuracy'],\n",
    ")\n",
    "\n",
    "# Just run each step independently. Keras has no callback for this.\n",
    "exp2_results = model.fit(\n",
    "    train_images,\n",
    "    to_categorical(train_labels),\n",
    "    epochs=2,\n",
    "    batch_size=batch_size,\n",
    "    validation_data=(test_images, to_categorical(test_labels)),\n",
    "    callbacks=[time_callback]\n",
    ")\n",
    "time_tmp = time_callback.time\n",
    "print(time_tmp)\n",
    "tmp_results = model.fit(\n",
    "    train_images,\n",
    "    to_categorical(train_labels),\n",
    "    epochs=2,\n",
    "    batch_size=batch_size * 5,\n",
    "    validation_data=(test_images, to_categorical(test_labels)),\n",
    "    callbacks=[time_callback]\n",
    ")\n",
    "time_tmp += time_callback.time\n",
    "print(time_tmp)\n",
    "\n",
    "for i in tmp_results.history.keys():\n",
    "    exp2_results.history[i].extend(tmp_results.history[i])\n",
    "\n",
    "tmp_results = model.fit(\n",
    "    train_images,\n",
    "    to_categorical(train_labels),\n",
    "    epochs=2,\n",
    "    batch_size=batch_size * 25,\n",
    "    validation_data=(test_images, to_categorical(test_labels)),\n",
    "    callbacks=[time_callback]\n",
    ")\n",
    "time_tmp += time_callback.time\n",
    "print(time_tmp)\n",
    "\n",
    "for i in tmp_results.history.keys():\n",
    "    exp2_results.history[i].extend(tmp_results.history[i])\n"
   ]
  },
  {
   "cell_type": "code",
   "execution_count": 34,
   "metadata": {},
   "outputs": [
    {
     "name": "stdout",
     "output_type": "stream",
     "text": [
      "{'loss': [0.25940101977437735, 0.12063700237311423, 0.08075917527700464, 0.07468590950593353, 0.06763385810578863, 0.06677304627373815], 'acc': [0.9236, 0.9644167, 0.9769167, 0.9788, 0.98106664, 0.98125], 'val_loss': [0.13878992691636086, 0.09938671678304672, 0.08610570803284645, 0.07953261733055114, 0.07882767356932163, 0.07834860309958458], 'val_acc': [0.9596, 0.9701, 0.9729, 0.9741, 0.9752, 0.9746]}\n",
      "[36.933000326156616, 33.39100003242493]\n"
     ]
    }
   ],
   "source": [
    "print(exp2_results.history)\n",
    "times.append(time_tmp)\n",
    "print(times)"
   ]
  },
  {
   "cell_type": "markdown",
   "metadata": {},
   "source": [
    "## Experiment 3: Vanilla SGD, hybrid."
   ]
  },
  {
   "cell_type": "code",
   "execution_count": 35,
   "metadata": {},
   "outputs": [],
   "source": [
    "def hybrid_lr_decay(epoch):\n",
    "    # Start off from the constant learning rate from the hybrid's initialization.\n",
    "    initial_lrate=0.05\n",
    "    drop=0.2\n",
    "    epochs_drop=2.0\n",
    "    current_rate = initial_lrate * math.pow(drop, math.floor(epoch / epochs_drop))\n",
    "    print(\"Epoch %d learning rate: %f\" % (epoch + 1, current_rate))\n",
    "    return current_rate\n",
    "\n",
    "hybrid_lr_scheduler = LearningRateScheduler(hybrid_lr_decay)"
   ]
  },
  {
   "cell_type": "code",
   "execution_count": 36,
   "metadata": {},
   "outputs": [
    {
     "name": "stdout",
     "output_type": "stream",
     "text": [
      "Train on 60000 samples, validate on 10000 samples\n",
      "Epoch 1/2\n",
      "60000/60000 [==============================] - 6s 104us/sample - loss: 0.2759 - acc: 0.9194 - val_loss: 0.1402 - val_acc: 0.9578\n",
      "Epoch 2/2\n",
      "60000/60000 [==============================] - 6s 103us/sample - loss: 0.1209 - acc: 0.9647 - val_loss: 0.1020 - val_acc: 0.9674\n",
      "Train on 60000 samples, validate on 10000 samples\n",
      "Epoch 1 learning rate: 0.050000\n",
      "Epoch 1/4\n",
      "60000/60000 [==============================] - 6s 93us/sample - loss: 0.0838 - acc: 0.9756 - val_loss: 0.0833 - val_acc: 0.9740\n",
      "Epoch 2 learning rate: 0.050000\n",
      "Epoch 2/4\n",
      "60000/60000 [==============================] - 6s 95us/sample - loss: 0.0774 - acc: 0.9771 - val_loss: 0.0805 - val_acc: 0.9739\n",
      "Epoch 3 learning rate: 0.010000\n",
      "Epoch 3/4\n",
      "60000/60000 [==============================] - 6s 94us/sample - loss: 0.0712 - acc: 0.9793 - val_loss: 0.0793 - val_acc: 0.9745\n",
      "Epoch 4 learning rate: 0.010000\n",
      "Epoch 4/4\n",
      "60000/60000 [==============================] - 6s 94us/sample - loss: 0.0706 - acc: 0.9796 - val_loss: 0.0789 - val_acc: 0.9741\n"
     ]
    }
   ],
   "source": [
    "reset_weights(model)\n",
    "learning_rate = 0.05  # Set a new constant.\n",
    "sgd = SGD(lr=learning_rate, momentum=momentum, decay=decay_rate, nesterov=False)\n",
    "\n",
    "model.compile(\n",
    "    optimizer=sgd,  # Vanilla SGD experiment.\n",
    "    loss='categorical_crossentropy',\n",
    "    metrics=['accuracy'],\n",
    ")\n",
    "\n",
    "# Run a step, and then increase the batch size manually. The decay scheduler\n",
    "# will decay the learning rate in the next step.\n",
    "exp3_results = model.fit(\n",
    "    train_images,\n",
    "    to_categorical(train_labels),\n",
    "    epochs=2,\n",
    "    batch_size=batch_size,\n",
    "    validation_data=(test_images, to_categorical(test_labels)),\n",
    "    callbacks=[time_callback]\n",
    ")\n",
    "time_tmp = time_callback.time\n",
    "\n",
    "tmp_results = model.fit(\n",
    "    train_images,\n",
    "    to_categorical(train_labels),\n",
    "    epochs=4,\n",
    "    batch_size=batch_size * 5,\n",
    "    validation_data=(test_images, to_categorical(test_labels)),\n",
    "    callbacks=[hybrid_lr_scheduler, time_callback]\n",
    ")\n",
    "time_tmp += time_callback.time\n",
    "\n",
    "for i in tmp_results.history.keys():\n",
    "    if i == 'lr':\n",
    "        continue\n",
    "    exp3_results.history[i].extend(tmp_results.history[i])"
   ]
  },
  {
   "cell_type": "code",
   "execution_count": 37,
   "metadata": {},
   "outputs": [
    {
     "name": "stdout",
     "output_type": "stream",
     "text": [
      "{'loss': [0.2758980800708135, 0.12094662707919876, 0.08379201954230667, 0.0773597170598805, 0.07122731988007823, 0.07055117593457301], 'acc': [0.91936666, 0.9647167, 0.9756, 0.9770833, 0.97933334, 0.9796], 'val_loss': [0.14016003973782062, 0.102014246173203, 0.08332923036068678, 0.0804838091135025, 0.07929230704903603, 0.07885571736842394], 'val_acc': [0.9578, 0.9674, 0.974, 0.9739, 0.9745, 0.9741]}\n",
      "[36.933000326156616, 33.39100003242493, 35.02800011634827]\n"
     ]
    }
   ],
   "source": [
    "print(exp3_results.history)\n",
    "times.append(time_tmp)\n",
    "print(times)"
   ]
  },
  {
   "cell_type": "markdown",
   "metadata": {},
   "source": [
    "## Experiment 4: Adam, decaying learning rate"
   ]
  },
  {
   "cell_type": "code",
   "execution_count": 38,
   "metadata": {},
   "outputs": [
    {
     "name": "stdout",
     "output_type": "stream",
     "text": [
      "Train on 60000 samples, validate on 10000 samples\n",
      "Epoch 1 learning rate: 0.150000\n",
      "Epoch 1/6\n",
      "60000/60000 [==============================] - 6s 106us/sample - loss: 1.2920 - acc: 0.9180 - val_loss: 0.1324 - val_acc: 0.9610\n",
      "Epoch 2 learning rate: 0.150000\n",
      "Epoch 2/6\n",
      "60000/60000 [==============================] - 6s 104us/sample - loss: 0.1292 - acc: 0.9618 - val_loss: 0.1121 - val_acc: 0.9651\n",
      "Epoch 3 learning rate: 0.030000\n",
      "Epoch 3/6\n",
      "60000/60000 [==============================] - 6s 105us/sample - loss: 0.0729 - acc: 0.9785 - val_loss: 0.0804 - val_acc: 0.9754\n",
      "Epoch 4 learning rate: 0.030000\n",
      "Epoch 4/6\n",
      "60000/60000 [==============================] - 6s 104us/sample - loss: 0.0654 - acc: 0.9803 - val_loss: 0.0839 - val_acc: 0.9738\n",
      "Epoch 5 learning rate: 0.006000\n",
      "Epoch 5/6\n",
      "60000/60000 [==============================] - 6s 104us/sample - loss: 0.0485 - acc: 0.9853 - val_loss: 0.0752 - val_acc: 0.9766\n",
      "Epoch 6 learning rate: 0.006000\n",
      "Epoch 6/6\n",
      "60000/60000 [==============================] - 6s 105us/sample - loss: 0.0457 - acc: 0.9858 - val_loss: 0.0773 - val_acc: 0.9763\n"
     ]
    }
   ],
   "source": [
    "'''\n",
    "# Adapted from https://machinelearningmastery.com/using-learning-rate-schedules-deep-learning-models-python-keras/\n",
    "def step_lr_decay_adam(epoch):\n",
    "    # Same learning-rate decaying algorithm as Vanilla SGD, except setting the initial rate to 0.001\n",
    "    initial_lrate=0.001\n",
    "    drop=0.2\n",
    "    epochs_drop=2.0\n",
    "    current_rate = initial_lrate * math.pow(drop, math.floor(epoch / epochs_drop))\n",
    "    print(\"Epoch %d learning rate: %f\" % (epoch + 1, current_rate))\n",
    "    return current_rate\n",
    "'''\n",
    "reset_weights(model)\n",
    "nadam = Nadam() #The paper uses the default settings for Adam\n",
    "\n",
    "model.compile(\n",
    "    optimizer=nadam,  # Adam experiment.\n",
    "    loss='categorical_crossentropy',\n",
    "    metrics=['accuracy'],\n",
    ")\n",
    "\n",
    "# Train the model.\n",
    "decay_lr_scheduler = LearningRateScheduler(step_lr_decay)\n",
    "\n",
    "exp4_results = model.fit(\n",
    "    train_images,\n",
    "    to_categorical(train_labels),\n",
    "    epochs=epochs,\n",
    "    batch_size=batch_size,\n",
    "    validation_data=(test_images, to_categorical(test_labels)),\n",
    "    callbacks=[decay_lr_scheduler, time_callback]\n",
    ")"
   ]
  },
  {
   "cell_type": "code",
   "execution_count": 39,
   "metadata": {},
   "outputs": [
    {
     "name": "stdout",
     "output_type": "stream",
     "text": [
      "{'loss': [1.2920175444583097, 0.12920907703849177, 0.07288842842332087, 0.06537625825963915, 0.04854224285343662, 0.045723953620763494], 'acc': [0.918, 0.96181667, 0.9784667, 0.9802833, 0.9853, 0.9858], 'val_loss': [0.13237396851181985, 0.11212772453203797, 0.0803924743179232, 0.08392652725800871, 0.07523445009253919, 0.0772659906418994], 'val_acc': [0.961, 0.9651, 0.9754, 0.9738, 0.9766, 0.9763], 'lr': [0.15, 0.15, 0.03, 0.03, 0.006, 0.006]}\n",
      "[36.933000326156616, 33.39100003242493, 35.02800011634827, 37.67700004577637]\n"
     ]
    }
   ],
   "source": [
    "print(exp4_results.history)\n",
    "times.append(time_callback.time)\n",
    "print(times)"
   ]
  },
  {
   "cell_type": "markdown",
   "metadata": {},
   "source": [
    "## Experiment 5: Adam, increasing batch size."
   ]
  },
  {
   "cell_type": "code",
   "execution_count": 40,
   "metadata": {},
   "outputs": [
    {
     "name": "stdout",
     "output_type": "stream",
     "text": [
      "Train on 60000 samples, validate on 10000 samples\n",
      "Epoch 1/2\n",
      "60000/60000 [==============================] - 6s 107us/sample - loss: 0.4960 - acc: 0.8613 - val_loss: 0.2642 - val_acc: 0.9237\n",
      "Epoch 2/2\n",
      "60000/60000 [==============================] - 6s 105us/sample - loss: 0.2257 - acc: 0.9350 - val_loss: 0.1733 - val_acc: 0.9478\n",
      "Train on 60000 samples, validate on 10000 samples\n",
      "Epoch 1/2\n",
      "60000/60000 [==============================] - 6s 95us/sample - loss: 0.1642 - acc: 0.9537 - val_loss: 0.1515 - val_acc: 0.9542\n",
      "Epoch 2/2\n",
      "60000/60000 [==============================] - 6s 96us/sample - loss: 0.1503 - acc: 0.9579 - val_loss: 0.1417 - val_acc: 0.9581\n",
      "Train on 60000 samples, validate on 10000 samples\n",
      "Epoch 1/2\n",
      "60000/60000 [==============================] - 5s 83us/sample - loss: 0.1415 - acc: 0.9604 - val_loss: 0.1385 - val_acc: 0.9590\n",
      "Epoch 2/2\n",
      "60000/60000 [==============================] - 5s 83us/sample - loss: 0.1391 - acc: 0.9608 - val_loss: 0.1364 - val_acc: 0.9599\n"
     ]
    }
   ],
   "source": [
    "reset_weights(model)\n",
    "nadam = Nadam() #The paper uses the default settings for Adam\n",
    "\n",
    "model.compile(\n",
    "    optimizer=nadam,  # Adam experiment.\n",
    "    loss='categorical_crossentropy',\n",
    "    metrics=['accuracy'],\n",
    ")\n",
    "\n",
    "# Just run each step independently. Keras has no callback for this.\n",
    "exp5_results = model.fit(\n",
    "    train_images,\n",
    "    to_categorical(train_labels),\n",
    "    epochs=2,\n",
    "    batch_size=batch_size,\n",
    "    validation_data=(test_images, to_categorical(test_labels)),\n",
    "    callbacks=[time_callback]\n",
    ")\n",
    "time_tmp = time_callback.time\n",
    "tmp_results = model.fit(\n",
    "    train_images,\n",
    "    to_categorical(train_labels),\n",
    "    epochs=2,\n",
    "    batch_size=batch_size * 5,\n",
    "    validation_data=(test_images, to_categorical(test_labels)),\n",
    "    callbacks=[time_callback]\n",
    ")\n",
    "time_tmp += time_callback.time\n",
    "\n",
    "for i in tmp_results.history.keys():\n",
    "    exp5_results.history[i].extend(tmp_results.history[i])\n",
    "\n",
    "tmp_results = model.fit(\n",
    "    train_images,\n",
    "    to_categorical(train_labels),\n",
    "    epochs=2,\n",
    "    batch_size=batch_size * 25,\n",
    "    validation_data=(test_images, to_categorical(test_labels)),\n",
    "    callbacks=[time_callback]\n",
    ")\n",
    "time_tmp += time_callback.time\n",
    "\n",
    "for i in tmp_results.history.keys():\n",
    "    exp5_results.history[i].extend(tmp_results.history[i])"
   ]
  },
  {
   "cell_type": "code",
   "execution_count": 41,
   "metadata": {},
   "outputs": [
    {
     "name": "stdout",
     "output_type": "stream",
     "text": [
      "{'loss': [0.49604139372706413, 0.22570454211284716, 0.16415221896022558, 0.15032457125683626, 0.14152068737894297, 0.1391244282325109], 'acc': [0.86135, 0.9350333, 0.9537, 0.95786667, 0.9604, 0.9608167], 'val_loss': [0.2641504350304604, 0.17333052691072226, 0.15154593661427498, 0.14173746146261693, 0.13854317739605904, 0.13640664890408516], 'val_acc': [0.9237, 0.9478, 0.9542, 0.9581, 0.959, 0.9599]}\n",
      "[36.933000326156616, 33.39100003242493, 35.02800011634827, 37.67700004577637, 34.20099997520447]\n"
     ]
    }
   ],
   "source": [
    "print(exp5_results.history)\n",
    "times.append(time_tmp)\n",
    "print(times)"
   ]
  },
  {
   "cell_type": "markdown",
   "metadata": {},
   "source": [
    "## Experiment 6: Adam, hybrid."
   ]
  },
  {
   "cell_type": "code",
   "execution_count": 42,
   "metadata": {},
   "outputs": [],
   "source": [
    "def hybrid_lr_decay_adam(epoch):\n",
    "    # Start off from the constant learning rate from the hybrid's initialization.\n",
    "    initial_lrate=0.001 #initial learning rate for Adam's Keras's default = 0.001\n",
    "    drop=0.2\n",
    "    epochs_drop=2.0\n",
    "    current_rate = initial_lrate * math.pow(drop, math.floor(epoch / epochs_drop))\n",
    "    print(\"Epoch %d learning rate: %f\" % (epoch + 1, current_rate))\n",
    "    return current_rate\n",
    "\n",
    "hybrid_lr_scheduler_adam = LearningRateScheduler(hybrid_lr_decay_adam)"
   ]
  },
  {
   "cell_type": "code",
   "execution_count": 44,
   "metadata": {},
   "outputs": [
    {
     "name": "stdout",
     "output_type": "stream",
     "text": [
      "Train on 60000 samples, validate on 10000 samples\n",
      "Epoch 1/2\n",
      "60000/60000 [==============================] - 7s 110us/sample - loss: 0.4097 - acc: 0.8853 - val_loss: 0.2011 - val_acc: 0.9405\n",
      "Epoch 2/2\n",
      "60000/60000 [==============================] - 6s 104us/sample - loss: 0.1733 - acc: 0.9500 - val_loss: 0.1384 - val_acc: 0.9573\n",
      "Train on 60000 samples, validate on 10000 samples\n",
      "Epoch 1 learning rate: 0.001000\n",
      "Epoch 1/4\n",
      "60000/60000 [==============================] - 6s 95us/sample - loss: 0.1231 - acc: 0.9657 - val_loss: 0.1237 - val_acc: 0.9635\n",
      "Epoch 2 learning rate: 0.001000\n",
      "Epoch 2/4\n",
      "60000/60000 [==============================] - 6s 96us/sample - loss: 0.1130 - acc: 0.9689 - val_loss: 0.1158 - val_acc: 0.9667\n",
      "Epoch 3 learning rate: 0.000200\n",
      "Epoch 3/4\n",
      "60000/60000 [==============================] - 6s 95us/sample - loss: 0.1050 - acc: 0.9711 - val_loss: 0.1125 - val_acc: 0.9670\n",
      "Epoch 4 learning rate: 0.000200\n",
      "Epoch 4/4\n",
      "60000/60000 [==============================] - 6s 96us/sample - loss: 0.1027 - acc: 0.9715 - val_loss: 0.1113 - val_acc: 0.9678\n"
     ]
    }
   ],
   "source": [
    "reset_weights(model)\n",
    "nadam = Nadam() #The paper uses the default settings for Adam\n",
    "\n",
    "model.compile(\n",
    "    optimizer=nadam,  # Adam experiment.\n",
    "    loss='categorical_crossentropy',\n",
    "    metrics=['accuracy'],\n",
    ")\n",
    "\n",
    "# Run a step, and then increase the batch size manually. The decay scheduler\n",
    "# will decay the learning rate in the next step.\n",
    "exp6_results = model.fit(\n",
    "    train_images,\n",
    "    to_categorical(train_labels),\n",
    "    epochs=2,\n",
    "    batch_size=batch_size,\n",
    "    validation_data=(test_images, to_categorical(test_labels)),\n",
    "    callbacks=[time_callback]\n",
    ")\n",
    "time_tmp = time_callback.time\n",
    "\n",
    "tmp_results = model.fit(\n",
    "    train_images,\n",
    "    to_categorical(train_labels),\n",
    "    epochs=4,\n",
    "    batch_size=batch_size * 5,\n",
    "    validation_data=(test_images, to_categorical(test_labels)),\n",
    "    callbacks=[hybrid_lr_scheduler_adam, time_callback]\n",
    ")\n",
    "time_tmp += time_callback.time\n",
    "\n",
    "for i in tmp_results.history.keys():\n",
    "    if i == 'lr':\n",
    "        continue\n",
    "    exp6_results.history[i].extend(tmp_results.history[i])"
   ]
  },
  {
   "cell_type": "code",
   "execution_count": 45,
   "metadata": {},
   "outputs": [
    {
     "name": "stdout",
     "output_type": "stream",
     "text": [
      "{'loss': [0.40972773731996615, 0.17325412718579172, 0.12309712941447894, 0.11298203816016515, 0.10497715336581072, 0.10272361508881052], 'acc': [0.88526666, 0.94996667, 0.96565, 0.96895, 0.97115, 0.9715], 'val_loss': [0.20114876329898834, 0.13836864702403545, 0.1236868727952242, 0.11576697416603565, 0.1124572141095996, 0.11134538650512696], 'val_acc': [0.9405, 0.9573, 0.9635, 0.9667, 0.967, 0.9678]}\n",
      "[36.933000326156616, 33.39100003242493, 35.02800011634827, 37.67700004577637, 34.20099997520447, 35.74000000953674]\n"
     ]
    }
   ],
   "source": [
    "print(exp6_results.history)\n",
    "times.append(time_tmp)\n",
    "print(times)"
   ]
  },
  {
   "cell_type": "markdown",
   "metadata": {},
   "source": [
    "## Experiment 7: SGD with momentum, decaying learning rate."
   ]
  },
  {
   "cell_type": "code",
   "execution_count": 46,
   "metadata": {},
   "outputs": [
    {
     "name": "stdout",
     "output_type": "stream",
     "text": [
      "Train on 60000 samples, validate on 10000 samples\n",
      "Epoch 1 learning rate: 0.150000\n",
      "Epoch 1/6\n",
      "60000/60000 [==============================] - 6s 102us/sample - loss: nan - acc: 0.0994 - val_loss: nan - val_acc: 0.0980\n",
      "Epoch 2 learning rate: 0.150000\n",
      "Epoch 2/6\n",
      "60000/60000 [==============================] - 6s 100us/sample - loss: nan - acc: 0.0987 - val_loss: nan - val_acc: 0.0980\n",
      "Epoch 3 learning rate: 0.030000\n",
      "Epoch 3/6\n",
      "60000/60000 [==============================] - 6s 101us/sample - loss: nan - acc: 0.0987 - val_loss: nan - val_acc: 0.0980\n",
      "Epoch 4 learning rate: 0.030000\n",
      "Epoch 4/6\n",
      "60000/60000 [==============================] - 6s 101us/sample - loss: nan - acc: 0.0987 - val_loss: nan - val_acc: 0.0980\n",
      "Epoch 5 learning rate: 0.006000\n",
      "Epoch 5/6\n",
      "60000/60000 [==============================] - 6s 100us/sample - loss: nan - acc: 0.0987 - val_loss: nan - val_acc: 0.0980\n",
      "Epoch 6 learning rate: 0.006000\n",
      "Epoch 6/6\n",
      "60000/60000 [==============================] - 6s 100us/sample - loss: nan - acc: 0.0987 - val_loss: nan - val_acc: 0.0980\n"
     ]
    }
   ],
   "source": [
    "reset_weights(model)\n",
    "learning_rate = 0.07  # Set a new constant.\n",
    "momentum = 0.1\n",
    "sgd = SGD(lr=learning_rate, momentum=momentum, decay=decay_rate, nesterov=True)\n",
    "\n",
    "model.compile(\n",
    "    optimizer=sgd,  # Vanilla SGD experiment.\n",
    "    loss='categorical_crossentropy',\n",
    "    metrics=['accuracy'],\n",
    ")\n",
    "\n",
    "# Train the model.\n",
    "decay_lr_scheduler = LearningRateScheduler(step_lr_decay)\n",
    "\n",
    "exp7_results = model.fit(\n",
    "    train_images,\n",
    "    to_categorical(train_labels),\n",
    "    epochs=epochs,\n",
    "    batch_size=batch_size,\n",
    "    validation_data=(test_images, to_categorical(test_labels)),\n",
    "    callbacks=[decay_lr_scheduler]\n",
    ")"
   ]
  },
  {
   "cell_type": "code",
   "execution_count": 47,
   "metadata": {},
   "outputs": [
    {
     "data": {
      "text/plain": [
       "{'loss': [nan, nan, nan, nan, nan, nan],\n",
       " 'acc': [0.099366665,\n",
       "  0.09871667,\n",
       "  0.09871667,\n",
       "  0.09871667,\n",
       "  0.09871667,\n",
       "  0.09871667],\n",
       " 'val_loss': [nan, nan, nan, nan, nan, nan],\n",
       " 'val_acc': [0.098, 0.098, 0.098, 0.098, 0.098, 0.098],\n",
       " 'lr': [0.15, 0.15, 0.03, 0.03, 0.006, 0.006]}"
      ]
     },
     "execution_count": 47,
     "metadata": {},
     "output_type": "execute_result"
    }
   ],
   "source": [
    "exp7_results.history"
   ]
  },
  {
   "cell_type": "markdown",
   "metadata": {},
   "source": [
    "## Experiment 8: SGD with momentum, increasing batch size."
   ]
  },
  {
   "cell_type": "code",
   "execution_count": 48,
   "metadata": {},
   "outputs": [
    {
     "name": "stdout",
     "output_type": "stream",
     "text": [
      "Train on 60000 samples, validate on 10000 samples\n",
      "Epoch 1/2\n",
      "60000/60000 [==============================] - 6s 103us/sample - loss: nan - acc: 0.0987 - val_loss: nan - val_acc: 0.0980\n",
      "Epoch 2/2\n",
      "60000/60000 [==============================] - 6s 103us/sample - loss: nan - acc: 0.0987 - val_loss: nan - val_acc: 0.0980\n",
      "Train on 60000 samples, validate on 10000 samples\n",
      "Epoch 1/2\n",
      "60000/60000 [==============================] - 5s 91us/sample - loss: nan - acc: 0.0987 - val_loss: nan - val_acc: 0.0980\n",
      "Epoch 2/2\n",
      "60000/60000 [==============================] - 6s 93us/sample - loss: nan - acc: 0.0987 - val_loss: nan - val_acc: 0.0980\n",
      "Train on 60000 samples, validate on 10000 samples\n",
      "Epoch 1/2\n",
      "60000/60000 [==============================] - 5s 82us/sample - loss: nan - acc: 0.0987 - val_loss: nan - val_acc: 0.0980\n",
      "Epoch 2/2\n",
      "60000/60000 [==============================] - 5s 82us/sample - loss: nan - acc: 0.0987 - val_loss: nan - val_acc: 0.0980\n"
     ]
    }
   ],
   "source": [
    "reset_weights(model)\n",
    "momentum = 0.1\n",
    "sgd = SGD(lr=learning_rate, momentum=momentum, decay=decay_rate, nesterov=False)\n",
    "\n",
    "model.compile(\n",
    "    optimizer=sgd,  # Vanilla SGD experiment.\n",
    "    loss='categorical_crossentropy',\n",
    "    metrics=['accuracy'],\n",
    ")\n",
    "\n",
    "# Just run each step independently. Keras has no callback for this.\n",
    "exp8_results = model.fit(\n",
    "    train_images,\n",
    "    to_categorical(train_labels),\n",
    "    epochs=2,\n",
    "    batch_size=batch_size,\n",
    "    validation_data=(test_images, to_categorical(test_labels))\n",
    ")\n",
    "tmp_results = model.fit(\n",
    "    train_images,\n",
    "    to_categorical(train_labels),\n",
    "    epochs=2,\n",
    "    batch_size=batch_size * 5,\n",
    "    validation_data=(test_images, to_categorical(test_labels))\n",
    ")\n",
    "\n",
    "for i in tmp_results.history.keys():\n",
    "    exp8_results.history[i].extend(tmp_results.history[i])\n",
    "\n",
    "tmp_results = model.fit(\n",
    "    train_images,\n",
    "    to_categorical(train_labels),\n",
    "    epochs=2,\n",
    "    batch_size=batch_size * 25,\n",
    "    validation_data=(test_images, to_categorical(test_labels))\n",
    ")\n",
    "\n",
    "for i in tmp_results.history.keys():\n",
    "    exp8_results.history[i].extend(tmp_results.history[i])\n"
   ]
  },
  {
   "cell_type": "code",
   "execution_count": 49,
   "metadata": {
    "scrolled": false
   },
   "outputs": [
    {
     "data": {
      "text/plain": [
       "{'loss': [nan, nan, nan, nan, nan, nan],\n",
       " 'acc': [0.09871667,\n",
       "  0.09871667,\n",
       "  0.09871667,\n",
       "  0.09871667,\n",
       "  0.09871667,\n",
       "  0.09871667],\n",
       " 'val_loss': [nan, nan, nan, nan, nan, nan],\n",
       " 'val_acc': [0.098, 0.098, 0.098, 0.098, 0.098, 0.098]}"
      ]
     },
     "execution_count": 49,
     "metadata": {},
     "output_type": "execute_result"
    }
   ],
   "source": [
    "exp8_results.history"
   ]
  },
  {
   "cell_type": "markdown",
   "metadata": {},
   "source": [
    "## Experiment 9: SGD with momentum, hybrid."
   ]
  },
  {
   "cell_type": "code",
   "execution_count": 50,
   "metadata": {},
   "outputs": [
    {
     "name": "stdout",
     "output_type": "stream",
     "text": [
      "Train on 60000 samples, validate on 10000 samples\n",
      "Epoch 1/2\n",
      "60000/60000 [==============================] - 6s 102us/sample - loss: nan - acc: 0.0987 - val_loss: nan - val_acc: 0.0980\n",
      "Epoch 2/2\n",
      "60000/60000 [==============================] - 6s 99us/sample - loss: nan - acc: 0.0987 - val_loss: nan - val_acc: 0.0980\n",
      "Train on 60000 samples, validate on 10000 samples\n",
      "Epoch 1 learning rate: 0.050000\n",
      "Epoch 1/4\n",
      "60000/60000 [==============================] - 6s 94us/sample - loss: nan - acc: 0.0987 - val_loss: nan - val_acc: 0.0980\n",
      "Epoch 2 learning rate: 0.050000\n",
      "Epoch 2/4\n",
      "60000/60000 [==============================] - 6s 92us/sample - loss: nan - acc: 0.0987 - val_loss: nan - val_acc: 0.0980\n",
      "Epoch 3 learning rate: 0.010000\n",
      "Epoch 3/4\n",
      "60000/60000 [==============================] - 6s 93us/sample - loss: nan - acc: 0.0987 - val_loss: nan - val_acc: 0.0980\n",
      "Epoch 4 learning rate: 0.010000\n",
      "Epoch 4/4\n",
      "60000/60000 [==============================] - 6s 93us/sample - loss: nan - acc: 0.0987 - val_loss: nan - val_acc: 0.0980\n"
     ]
    }
   ],
   "source": [
    "reset_weights(model)\n",
    "learning_rate = 0.05  # Set a new constant.\n",
    "momentum = 0.1\n",
    "sgd = SGD(lr=learning_rate, momentum=momentum, decay=decay_rate, nesterov=False)\n",
    "\n",
    "model.compile(\n",
    "    optimizer=sgd,  # Vanilla SGD experiment.\n",
    "    loss='categorical_crossentropy',\n",
    "    metrics=['accuracy'],\n",
    ")\n",
    "\n",
    "# Run a step, and then increase the batch size manually. The decay scheduler\n",
    "# will decay the learning rate in the next step.\n",
    "exp9_results = model.fit(\n",
    "    train_images,\n",
    "    to_categorical(train_labels),\n",
    "    epochs=2,\n",
    "    batch_size=batch_size,\n",
    "    validation_data=(test_images, to_categorical(test_labels))\n",
    ")\n",
    "\n",
    "tmp_results = model.fit(\n",
    "    train_images,\n",
    "    to_categorical(train_labels),\n",
    "    epochs=4,\n",
    "    batch_size=batch_size * 5,\n",
    "    validation_data=(test_images, to_categorical(test_labels)),\n",
    "    callbacks=[hybrid_lr_scheduler]\n",
    ")\n",
    "\n",
    "for i in tmp_results.history.keys():\n",
    "    if i == 'lr':\n",
    "        continue\n",
    "    exp9_results.history[i].extend(tmp_results.history[i])"
   ]
  },
  {
   "cell_type": "code",
   "execution_count": 51,
   "metadata": {},
   "outputs": [
    {
     "data": {
      "text/plain": [
       "{'loss': [nan, nan, nan, nan, nan, nan],\n",
       " 'acc': [0.09871667,\n",
       "  0.09871667,\n",
       "  0.09871667,\n",
       "  0.09871667,\n",
       "  0.09871667,\n",
       "  0.09871667],\n",
       " 'val_loss': [nan, nan, nan, nan, nan, nan],\n",
       " 'val_acc': [0.098, 0.098, 0.098, 0.098, 0.098, 0.098]}"
      ]
     },
     "execution_count": 51,
     "metadata": {},
     "output_type": "execute_result"
    }
   ],
   "source": [
    "exp9_results.history"
   ]
  },
  {
   "cell_type": "markdown",
   "metadata": {},
   "source": [
    "## Experiment 1-3 Plots"
   ]
  },
  {
   "cell_type": "code",
   "execution_count": 52,
   "metadata": {},
   "outputs": [],
   "source": [
    "import matplotlib\n",
    "import matplotlib.pyplot as plt"
   ]
  },
  {
   "cell_type": "code",
   "execution_count": 53,
   "metadata": {},
   "outputs": [
    {
     "data": {
      "image/png": "[encoded data removed]",
      "text/plain": [
       "<Figure size 432x288 with 1 Axes>"
      ]
     },
     "metadata": {
      "needs_background": "light"
     },
     "output_type": "display_data"
    }
   ],
   "source": [
    "f_vanillasgd, a_vanillasgd = plt.subplots()\n",
    "a_vanillasgd.plot(range(1,7), exp1_results.history[\"val_acc\"], label=\"Decaying L-rate\")\n",
    "a_vanillasgd.plot(range(1,7), exp3_results.history[\"val_acc\"], label=\"Hybrid\")\n",
    "a_vanillasgd.plot(range(1,7), exp2_results.history[\"val_acc\"], label=\"Increasing Batch\")\n",
    "\n",
    "legend = a_vanillasgd.legend(loc='lower right', shadow=True, fontsize='medium')\n",
    "a_vanillasgd.set(xlabel='epochs', ylabel='val acc', title='Vanilla SGD')\n",
    "a_vanillasgd.grid()\n",
    "\n",
    "f_vanillasgd.savefig(\"vanilla_sgd.png\")"
   ]
  },
  {
   "cell_type": "markdown",
   "metadata": {},
   "source": [
    "## Experiment 4-6 Plots"
   ]
  },
  {
   "cell_type": "code",
   "execution_count": 54,
   "metadata": {},
   "outputs": [
    {
     "data": {
      "image/png": "[encoded data removed]",
      "text/plain": [
       "<Figure size 432x288 with 1 Axes>"
      ]
     },
     "metadata": {
      "needs_background": "light"
     },
     "output_type": "display_data"
    }
   ],
   "source": [
    "f_adam, a_adam = plt.subplots()\n",
    "a_adam.plot(range(1,7), exp4_results.history[\"val_acc\"], label=\"Decaying L-rate\")\n",
    "a_adam.plot(range(1,7), exp6_results.history[\"val_acc\"], label=\"Hybrid\")\n",
    "a_adam.plot(range(1,7), exp5_results.history[\"val_acc\"], label=\"Increasing Batch\")\n",
    "\n",
    "legend = a_adam.legend(loc='lower right', shadow=True, fontsize='medium')\n",
    "a_adam.set(xlabel='epochs', ylabel='val acc', title='Adam')\n",
    "a_adam.grid()\n",
    "\n",
    "f_adam.savefig(\"adam.png\")"
   ]
  },
  {
   "cell_type": "markdown",
   "metadata": {},
   "source": [
    "## Experiment 7-9 Plots"
   ]
  },
  {
   "cell_type": "code",
   "execution_count": 55,
   "metadata": {},
   "outputs": [
    {
     "data": {
      "image/png": "[encoded data removed]",
      "text/plain": [
       "<Figure size 432x288 with 1 Axes>"
      ]
     },
     "metadata": {
      "needs_background": "light"
     },
     "output_type": "display_data"
    }
   ],
   "source": [
    "f_sgdm, a_sgdm = plt.subplots()\n",
    "a_sgdm.plot(range(1,7), exp7_results.history[\"val_acc\"], label=\"Decaying L-rate\")\n",
    "a_sgdm.plot(range(1,7), exp9_results.history[\"val_acc\"], label=\"Hybrid\")\n",
    "a_sgdm.plot(range(1,7), exp8_results.history[\"val_acc\"], label=\"Increasing Batch\")\n",
    "\n",
    "legend = a_sgdm.legend(loc='lower right', shadow=True, fontsize='medium')\n",
    "a_sgdm.set(xlabel='epochs', ylabel='val acc', title='SGD with momentum')\n",
    "a_sgdm.grid()\n",
    "\n",
    "f_sgdm.savefig(\"sgd_with_momentum.png\")"
   ]
  },
  {
   "cell_type": "markdown",
   "metadata": {},
   "source": [
    "## Time comparison (1-3)"
   ]
  },
  {
   "cell_type": "code",
   "execution_count": 66,
   "metadata": {
    "scrolled": true
   },
   "outputs": [
    {
     "data": {
      "image/png": "[encoded data removed]",
      "text/plain": [
       "<Figure size 432x288 with 1 Axes>"
      ]
     },
     "metadata": {
      "needs_background": "light"
     },
     "output_type": "display_data"
    }
   ],
   "source": [
    "objects = ('Decay L_rate', 'Inc. Batch', 'Hybrid')\n",
    "y_pos = np.arange(len(objects))\n",
    "performance = times[0:3]\n",
    "\n",
    "plt.bar(y_pos, performance, align='center', alpha=0.5)\n",
    "plt.xticks(y_pos, objects)\n",
    "plt.ylabel('Time (sec)')\n",
    "plt.title('Vanilla SGD Training Time')\n",
    "\n",
    "plt.show()\n",
    "#plt.savefig(\"vanillaSGD_time.png\")"
   ]
  },
  {
   "cell_type": "markdown",
   "metadata": {},
   "source": [
    "## Time comparison (4-6)"
   ]
  },
  {
   "cell_type": "code",
   "execution_count": 67,
   "metadata": {},
   "outputs": [
    {
     "data": {
      "image/png": "[encoded data removed]",
      "text/plain": [
       "<Figure size 432x288 with 1 Axes>"
      ]
     },
     "metadata": {
      "needs_background": "light"
     },
     "output_type": "display_data"
    }
   ],
   "source": [
    "objects = ('Decay L_rate', 'Inc. Batch', 'Hybrid')\n",
    "y_pos = np.arange(len(objects))\n",
    "performance = times[3:6]\n",
    "\n",
    "plt.bar(y_pos, performance, align='center', alpha=0.5)\n",
    "plt.xticks(y_pos, objects)\n",
    "plt.ylabel('Usage')\n",
    "plt.title('Programming language usage')\n",
    "\n",
    "plt.ylabel('Time (sec)')\n",
    "plt.title('Adam Training Time')\n",
    "\n",
    "plt.show()"
   ]
  },
  {
   "cell_type": "code",
   "execution_count": null,
   "metadata": {},
   "outputs": [],
   "source": []
  }
 ],
 "metadata": {
  "kernelspec": {
   "display_name": "Python 3",
   "language": "python",
   "name": "python3"
  },
  "language_info": {
   "codemirror_mode": {
    "name": "ipython",
    "version": 3
   },
   "file_extension": ".py",
   "mimetype": "text/x-python",
   "name": "python",
   "nbconvert_exporter": "python",
   "pygments_lexer": "ipython3",
   "version": "3.7.4"
  }
 },
 "nbformat": 4,
 "nbformat_minor": 2
}
