{
 "cells": [
  {
   "cell_type": "markdown",
   "metadata": {},
   "source": [
    "## Adapted from Victor Zhou's CNN published at [this blog post](https://victorzhou.com/blog/keras-cnn-tutorial/)."
   ]
  },
  {
   "cell_type": "code",
   "execution_count": 1,
   "metadata": {},
   "outputs": [],
   "source": [
    "import math\n",
    "import mnist\n",
    "import numpy as np\n",
    "\n",
    "# Using tf.keras for Ghost Batch Norm capability.\n",
    "import tensorflow.keras.backend as K\n",
    "from tensorflow.keras.models import Sequential\n",
    "from tensorflow.keras.layers import Conv2D, MaxPooling2D, Dense, Flatten, BatchNormalization\n",
    "from tensorflow.keras.optimizers import SGD\n",
    "from tensorflow.keras.utils import to_categorical\n",
    "from tensorflow.keras.callbacks import LearningRateScheduler\n",
    "from tensorflow.keras.optimizers import Nadam\n",
    "\n",
    "import tensorflow as tf\n",
    "#print(tf.version)\n",
    "# Disable INFO and WARNING messages from TensorFlow.\n",
    "# Our Keras version (2.2.4 / TF 1.15.0) throws deprecation warnings.\n",
    "tf.logging.set_verbosity(tf.logging.ERROR)"
   ]
  },
  {
   "cell_type": "code",
   "execution_count": 2,
   "metadata": {},
   "outputs": [],
   "source": [
    "train_images = mnist.train_images() \n",
    "train_labels = mnist.train_labels()\n",
    "test_images = mnist.test_images()\n",
    "test_labels = mnist.test_labels()\n",
    "\n",
    "# Normalize the images.\n",
    "train_images = (train_images / 255) - 0.5\n",
    "test_images = (test_images / 255) - 0.5\n",
    "\n",
    "# Reshape the images.\n",
    "train_images = np.expand_dims(train_images, axis=3)\n",
    "test_images = np.expand_dims(test_images, axis=3)\n",
    "\n",
    "num_filters = 8\n",
    "filter_size = 3\n",
    "pool_size = 2"
   ]
  },
  {
   "cell_type": "code",
   "execution_count": 3,
   "metadata": {},
   "outputs": [],
   "source": [
    "# Build the model.\n",
    "batch_size = 100       # TODO: make this less arbitrary.\n",
    "ghost_batch_size = 10  # TODO: make this less arbitrary.\n",
    "\n",
    "model = Sequential([\n",
    "    # The authors required ghost batch normalization in their experiments.\n",
    "    # The papers they reference use normalization preceding each convolutional layer.\n",
    "    BatchNormalization(virtual_batch_size=ghost_batch_size),\n",
    "    Conv2D(filters=num_filters, kernel_size=filter_size, input_shape=(28, 28, 1)),\n",
    "    MaxPooling2D(pool_size=pool_size),\n",
    "    Flatten(),\n",
    "    Dense(units=10, activation='softmax'),\n",
    "])"
   ]
  },
  {
   "cell_type": "code",
   "execution_count": 4,
   "metadata": {},
   "outputs": [],
   "source": [
    "# Adapted from https://machinelearningmastery.com/using-learning-rate-schedules-deep-learning-models-python-keras/\n",
    "def step_lr_decay(epoch):\n",
    "    # This starts with a learning rate higher than the default learning rate in\n",
    "    # Vanilla SGD. It drops by a factor of 5 each step, and I chose to drop after\n",
    "    # every other epoch to make training not take too long on a laptop.\n",
    "    # Think of this as a half-life equation.\n",
    "    initial_lrate=0.15\n",
    "    drop=0.2\n",
    "    epochs_drop=2.0\n",
    "    current_rate = initial_lrate * math.pow(drop, math.floor(epoch / epochs_drop))\n",
    "    print(\"Epoch %d learning rate: %f\" % (epoch + 1, current_rate))\n",
    "    return current_rate"
   ]
  },
  {
   "cell_type": "code",
   "execution_count": 5,
   "metadata": {},
   "outputs": [],
   "source": [
    "# Compile the model.\n",
    "epochs = 6            # Run enough epochs to test the training schedule.\n",
    "learning_rate = 0.00  # Will be overrided by the scheduler.\n",
    "decay_rate = 0.00     # Default decay rate.\n",
    "momentum = 0.0        # Default momentum.\n",
    "\n",
    "sgd = SGD(lr=learning_rate, momentum=momentum, decay=decay_rate, nesterov=False)\n",
    "\n",
    "model.compile(\n",
    "    optimizer=sgd,  # Vanilla SGD experiment.\n",
    "    loss='categorical_crossentropy',\n",
    "    metrics=['accuracy'],\n",
    ")"
   ]
  },
  {
   "cell_type": "markdown",
   "metadata": {},
   "source": [
    "## Experiment 1: Vanilla SGD, decaying learning rate."
   ]
  },
  {
   "cell_type": "code",
   "execution_count": 6,
   "metadata": {},
   "outputs": [
    {
     "name": "stdout",
     "output_type": "stream",
     "text": [
      "Train on 60000 samples, validate on 10000 samples\n",
      "Epoch 1 learning rate: 0.150000\n",
      "Epoch 1/6\n",
      "60000/60000 [==============================] - 6s 94us/sample - loss: 0.2313 - acc: 0.9315 - val_loss: 0.1098 - val_acc: 0.9657\n",
      "Epoch 2 learning rate: 0.150000\n",
      "Epoch 2/6\n",
      "60000/60000 [==============================] - 8s 129us/sample - loss: 0.1088 - acc: 0.9676 - val_loss: 0.0903 - val_acc: 0.9713\n",
      "Epoch 3 learning rate: 0.030000\n",
      "Epoch 3/6\n",
      "60000/60000 [==============================] - 8s 137us/sample - loss: 0.0669 - acc: 0.9808 - val_loss: 0.0715 - val_acc: 0.9768\n",
      "Epoch 4 learning rate: 0.030000\n",
      "Epoch 4/6\n",
      "60000/60000 [==============================] - 8s 140us/sample - loss: 0.0610 - acc: 0.9825 - val_loss: 0.0690 - val_acc: 0.9782\n",
      "Epoch 5 learning rate: 0.006000\n",
      "Epoch 5/6\n",
      "60000/60000 [==============================] - 8s 136us/sample - loss: 0.0540 - acc: 0.9847 - val_loss: 0.0676 - val_acc: 0.9794\n",
      "Epoch 6 learning rate: 0.006000\n",
      "Epoch 6/6\n",
      "60000/60000 [==============================] - 8s 134us/sample - loss: 0.0530 - acc: 0.9851 - val_loss: 0.0670 - val_acc: 0.9788\n"
     ]
    }
   ],
   "source": [
    "# Train the model.\n",
    "decay_lr_scheduler = LearningRateScheduler(step_lr_decay)\n",
    "\n",
    "exp1_results = model.fit(\n",
    "    train_images,\n",
    "    to_categorical(train_labels),\n",
    "    epochs=epochs,\n",
    "    batch_size=batch_size,\n",
    "    validation_data=(test_images, to_categorical(test_labels)),\n",
    "    callbacks=[decay_lr_scheduler]\n",
    ")"
   ]
  },
  {
   "cell_type": "code",
   "execution_count": 7,
   "metadata": {},
   "outputs": [
    {
     "data": {
      "text/plain": [
       "{'loss': [0.23133539444456497,\n",
       "  0.1087887740538766,\n",
       "  0.06690199436154216,\n",
       "  0.06102695704903453,\n",
       "  0.053963111427923045,\n",
       "  0.05299553099088371],\n",
       " 'acc': [0.93151665, 0.96765, 0.98078334, 0.98245, 0.98468333, 0.98515],\n",
       " 'val_loss': [0.10980322206392884,\n",
       "  0.09032940616831184,\n",
       "  0.07148506407625974,\n",
       "  0.06902221580501645,\n",
       "  0.06756993195042015,\n",
       "  0.06698918364010752],\n",
       " 'val_acc': [0.9657, 0.9713, 0.9768, 0.9782, 0.9794, 0.9788],\n",
       " 'lr': [0.15, 0.15, 0.03, 0.03, 0.006, 0.006]}"
      ]
     },
     "execution_count": 7,
     "metadata": {},
     "output_type": "execute_result"
    }
   ],
   "source": [
    "exp1_results.history"
   ]
  },
  {
   "cell_type": "markdown",
   "metadata": {},
   "source": [
    "## Experiment 2: Vanilla SGD, increasing batch size."
   ]
  },
  {
   "cell_type": "code",
   "execution_count": 8,
   "metadata": {},
   "outputs": [],
   "source": [
    "# Keras has no built in for this. \n",
    "# Code is from https://www.codementor.io/nitinsurya/how-to-re-initialize-keras-model-weights-et41zre2g\n",
    "def reset_weights(model):\n",
    "    session = K.get_session()\n",
    "    for layer in model.layers: \n",
    "        if hasattr(layer, 'kernel_initializer'):\n",
    "            layer.kernel.initializer.run(session=session)"
   ]
  },
  {
   "cell_type": "code",
   "execution_count": 9,
   "metadata": {},
   "outputs": [
    {
     "name": "stdout",
     "output_type": "stream",
     "text": [
      "Train on 60000 samples, validate on 10000 samples\n",
      "Epoch 1/2\n",
      "60000/60000 [==============================] - 8s 134us/sample - loss: 0.2583 - acc: 0.9212 - val_loss: 0.1501 - val_acc: 0.9504\n",
      "Epoch 2/2\n",
      "60000/60000 [==============================] - 8s 138us/sample - loss: 0.1285 - acc: 0.9616 - val_loss: 0.0972 - val_acc: 0.9687\n",
      "Train on 60000 samples, validate on 10000 samples\n",
      "Epoch 1/2\n",
      "60000/60000 [==============================] - 7s 122us/sample - loss: 0.0906 - acc: 0.9734 - val_loss: 0.0845 - val_acc: 0.9728\n",
      "Epoch 2/2\n",
      "60000/60000 [==============================] - 8s 127us/sample - loss: 0.0835 - acc: 0.9750 - val_loss: 0.0798 - val_acc: 0.9740\n",
      "Train on 60000 samples, validate on 10000 samples\n",
      "Epoch 1/2\n",
      "60000/60000 [==============================] - 7s 110us/sample - loss: 0.0772 - acc: 0.9773 - val_loss: 0.0790 - val_acc: 0.9737\n",
      "Epoch 2/2\n",
      "60000/60000 [==============================] - 6s 107us/sample - loss: 0.0756 - acc: 0.9782 - val_loss: 0.0784 - val_acc: 0.9740\n"
     ]
    }
   ],
   "source": [
    "reset_weights(model)\n",
    "learning_rate = 0.07  # Set a new constant.\n",
    "sgd = SGD(lr=learning_rate, momentum=momentum, decay=decay_rate, nesterov=False)\n",
    "\n",
    "model.compile(\n",
    "    optimizer=sgd,  # Vanilla SGD experiment.\n",
    "    loss='categorical_crossentropy',\n",
    "    metrics=['accuracy'],\n",
    ")\n",
    "\n",
    "# Just run each step independently. Keras has no callback for this.\n",
    "exp2_results = model.fit(\n",
    "    train_images,\n",
    "    to_categorical(train_labels),\n",
    "    epochs=2,\n",
    "    batch_size=batch_size,\n",
    "    validation_data=(test_images, to_categorical(test_labels))\n",
    ")\n",
    "tmp_results = model.fit(\n",
    "    train_images,\n",
    "    to_categorical(train_labels),\n",
    "    epochs=2,\n",
    "    batch_size=batch_size * 5,\n",
    "    validation_data=(test_images, to_categorical(test_labels))\n",
    ")\n",
    "\n",
    "for i in tmp_results.history.keys():\n",
    "    exp2_results.history[i].extend(tmp_results.history[i])\n",
    "\n",
    "tmp_results = model.fit(\n",
    "    train_images,\n",
    "    to_categorical(train_labels),\n",
    "    epochs=2,\n",
    "    batch_size=batch_size * 25,\n",
    "    validation_data=(test_images, to_categorical(test_labels))\n",
    ")\n",
    "\n",
    "for i in tmp_results.history.keys():\n",
    "    exp2_results.history[i].extend(tmp_results.history[i])\n"
   ]
  },
  {
   "cell_type": "code",
   "execution_count": 10,
   "metadata": {},
   "outputs": [
    {
     "data": {
      "text/plain": [
       "{'loss': [0.2583177598255376,\n",
       "  0.1284704947657883,\n",
       "  0.09055903333549699,\n",
       "  0.0835349808447063,\n",
       "  0.07723505624259512,\n",
       "  0.07559128726522128],\n",
       " 'acc': [0.92116666, 0.9616333, 0.9734, 0.97495, 0.97728336, 0.97815],\n",
       " 'val_loss': [0.15013285676017404,\n",
       "  0.09717871752567589,\n",
       "  0.08447987865656614,\n",
       "  0.07984034046530723,\n",
       "  0.07899953238666058,\n",
       "  0.07840237021446228],\n",
       " 'val_acc': [0.9504, 0.9687, 0.9728, 0.974, 0.9737, 0.974]}"
      ]
     },
     "execution_count": 10,
     "metadata": {},
     "output_type": "execute_result"
    }
   ],
   "source": [
    "exp2_results.history"
   ]
  },
  {
   "cell_type": "markdown",
   "metadata": {},
   "source": [
    "## Experiment 3: Vanilla SGD, hybrid."
   ]
  },
  {
   "cell_type": "code",
   "execution_count": 11,
   "metadata": {},
   "outputs": [],
   "source": [
    "def hybrid_lr_decay(epoch):\n",
    "    # Start off from the constant learning rate from the hybrid's initialization.\n",
    "    initial_lrate=0.05\n",
    "    drop=0.2\n",
    "    epochs_drop=2.0\n",
    "    current_rate = initial_lrate * math.pow(drop, math.floor(epoch / epochs_drop))\n",
    "    print(\"Epoch %d learning rate: %f\" % (epoch + 1, current_rate))\n",
    "    return current_rate\n",
    "\n",
    "hybrid_lr_scheduler = LearningRateScheduler(hybrid_lr_decay)"
   ]
  },
  {
   "cell_type": "code",
   "execution_count": 12,
   "metadata": {},
   "outputs": [
    {
     "name": "stdout",
     "output_type": "stream",
     "text": [
      "Train on 60000 samples, validate on 10000 samples\n",
      "Epoch 1/2\n",
      "60000/60000 [==============================] - 8s 135us/sample - loss: 0.2792 - acc: 0.9182 - val_loss: 0.1581 - val_acc: 0.9536\n",
      "Epoch 2/2\n",
      "60000/60000 [==============================] - 9s 142us/sample - loss: 0.1446 - acc: 0.9569 - val_loss: 0.1263 - val_acc: 0.9618\n",
      "Train on 60000 samples, validate on 10000 samples\n",
      "Epoch 1 learning rate: 0.050000\n",
      "Epoch 1/4\n",
      "60000/60000 [==============================] - 8s 131us/sample - loss: 0.1038 - acc: 0.9705 - val_loss: 0.1054 - val_acc: 0.9696\n",
      "Epoch 2 learning rate: 0.050000\n",
      "Epoch 2/4\n",
      "60000/60000 [==============================] - 8s 127us/sample - loss: 0.0968 - acc: 0.9722 - val_loss: 0.1020 - val_acc: 0.9697\n",
      "Epoch 3 learning rate: 0.010000\n",
      "Epoch 3/4\n",
      "60000/60000 [==============================] - 8s 127us/sample - loss: 0.0900 - acc: 0.9743 - val_loss: 0.1000 - val_acc: 0.9704\n",
      "Epoch 4 learning rate: 0.010000\n",
      "Epoch 4/4\n",
      "60000/60000 [==============================] - 7s 125us/sample - loss: 0.0887 - acc: 0.9748 - val_loss: 0.0998 - val_acc: 0.9705\n"
     ]
    }
   ],
   "source": [
    "reset_weights(model)\n",
    "learning_rate = 0.05  # Set a new constant.\n",
    "sgd = SGD(lr=learning_rate, momentum=momentum, decay=decay_rate, nesterov=False)\n",
    "\n",
    "model.compile(\n",
    "    optimizer=sgd,  # Vanilla SGD experiment.\n",
    "    loss='categorical_crossentropy',\n",
    "    metrics=['accuracy'],\n",
    ")\n",
    "\n",
    "# Run a step, and then increase the batch size manually. The decay scheduler\n",
    "# will decay the learning rate in the next step.\n",
    "exp3_results = model.fit(\n",
    "    train_images,\n",
    "    to_categorical(train_labels),\n",
    "    epochs=2,\n",
    "    batch_size=batch_size,\n",
    "    validation_data=(test_images, to_categorical(test_labels))\n",
    ")\n",
    "\n",
    "tmp_results = model.fit(\n",
    "    train_images,\n",
    "    to_categorical(train_labels),\n",
    "    epochs=4,\n",
    "    batch_size=batch_size * 5,\n",
    "    validation_data=(test_images, to_categorical(test_labels)),\n",
    "    callbacks=[hybrid_lr_scheduler]\n",
    ")\n",
    "\n",
    "for i in tmp_results.history.keys():\n",
    "    if i == 'lr':\n",
    "        continue\n",
    "    exp3_results.history[i].extend(tmp_results.history[i])"
   ]
  },
  {
   "cell_type": "code",
   "execution_count": 13,
   "metadata": {},
   "outputs": [
    {
     "data": {
      "text/plain": [
       "{'loss': [0.27916646376252174,\n",
       "  0.144623649045825,\n",
       "  0.10382130329186717,\n",
       "  0.09681988762070735,\n",
       "  0.08997332798317074,\n",
       "  0.08866024520248175],\n",
       " 'acc': [0.91823334, 0.9568667, 0.9705167, 0.97223336, 0.97433335, 0.9748167],\n",
       " 'val_loss': [0.15805390674620867,\n",
       "  0.12629101648926735,\n",
       "  0.10537823718041181,\n",
       "  0.10200611315667629,\n",
       "  0.10002062730491161,\n",
       "  0.09980837162584066],\n",
       " 'val_acc': [0.9536, 0.9618, 0.9696, 0.9697, 0.9704, 0.9705]}"
      ]
     },
     "execution_count": 13,
     "metadata": {},
     "output_type": "execute_result"
    }
   ],
   "source": [
    "exp3_results.history"
   ]
  },
  {
   "cell_type": "markdown",
   "metadata": {},
   "source": [
    "## Experiment 4: Adam, decaying learning rate"
   ]
  },
  {
   "cell_type": "code",
   "execution_count": 14,
   "metadata": {},
   "outputs": [
    {
     "name": "stdout",
     "output_type": "stream",
     "text": [
      "Train on 60000 samples, validate on 10000 samples\n",
      "Epoch 1 learning rate: 0.150000\n",
      "Epoch 1/6\n",
      "60000/60000 [==============================] - 8s 138us/sample - loss: 1.1778 - acc: 0.9183 - val_loss: 0.1291 - val_acc: 0.9607\n",
      "Epoch 2 learning rate: 0.150000\n",
      "Epoch 2/6\n",
      "60000/60000 [==============================] - 8s 140us/sample - loss: 0.1322 - acc: 0.9603 - val_loss: 0.1091 - val_acc: 0.9657\n",
      "Epoch 3 learning rate: 0.030000\n",
      "Epoch 3/6\n",
      "60000/60000 [==============================] - 8s 138us/sample - loss: 0.0720 - acc: 0.9790 - val_loss: 0.0814 - val_acc: 0.9738cc: 0.9\n",
      "Epoch 4 learning rate: 0.030000\n",
      "Epoch 4/6\n",
      "60000/60000 [==============================] - 8s 129us/sample - loss: 0.0659 - acc: 0.9806 - val_loss: 0.0817 - val_acc: 0.9735\n",
      "Epoch 5 learning rate: 0.006000\n",
      "Epoch 5/6\n",
      "60000/60000 [==============================] - 6s 106us/sample - loss: 0.0492 - acc: 0.9851 - val_loss: 0.0767 - val_acc: 0.9769\n",
      "Epoch 6 learning rate: 0.006000\n",
      "Epoch 6/6\n",
      "60000/60000 [==============================] - 6s 100us/sample - loss: 0.0463 - acc: 0.9863 - val_loss: 0.0757 - val_acc: 0.9773\n"
     ]
    }
   ],
   "source": [
    "'''\n",
    "# Adapted from https://machinelearningmastery.com/using-learning-rate-schedules-deep-learning-models-python-keras/\n",
    "def step_lr_decay_adam(epoch):\n",
    "    # Same learning-rate decaying algorithm as Vanilla SGD, except setting the initial rate to 0.001\n",
    "    initial_lrate=0.001\n",
    "    drop=0.2\n",
    "    epochs_drop=2.0\n",
    "    current_rate = initial_lrate * math.pow(drop, math.floor(epoch / epochs_drop))\n",
    "    print(\"Epoch %d learning rate: %f\" % (epoch + 1, current_rate))\n",
    "    return current_rate\n",
    "'''\n",
    "reset_weights(model)\n",
    "nadam = Nadam() #The paper uses the default settings for Adam\n",
    "\n",
    "model.compile(\n",
    "    optimizer=nadam,  # Adam experiment.\n",
    "    loss='categorical_crossentropy',\n",
    "    metrics=['accuracy'],\n",
    ")\n",
    "\n",
    "# Train the model.\n",
    "decay_lr_scheduler = LearningRateScheduler(step_lr_decay)\n",
    "\n",
    "exp4_results = model.fit(\n",
    "    train_images,\n",
    "    to_categorical(train_labels),\n",
    "    epochs=epochs,\n",
    "    batch_size=batch_size,\n",
    "    validation_data=(test_images, to_categorical(test_labels)),\n",
    "    callbacks=[decay_lr_scheduler]\n",
    ")"
   ]
  },
  {
   "cell_type": "code",
   "execution_count": 15,
   "metadata": {},
   "outputs": [
    {
     "data": {
      "text/plain": [
       "{'loss': [1.1778050466813148,\n",
       "  0.13217506480403243,\n",
       "  0.07196073113474995,\n",
       "  0.06590718468884006,\n",
       "  0.0492229970660992,\n",
       "  0.04634817166874806],\n",
       " 'acc': [0.91835, 0.96025, 0.979, 0.9805833, 0.98511666, 0.9863167],\n",
       " 'val_loss': [0.12910960301756857,\n",
       "  0.10913823520764708,\n",
       "  0.08136494354810565,\n",
       "  0.08170081057585776,\n",
       "  0.07671990296803415,\n",
       "  0.07571628901176154],\n",
       " 'val_acc': [0.9607, 0.9657, 0.9738, 0.9735, 0.9769, 0.9773],\n",
       " 'lr': [0.15, 0.15, 0.03, 0.03, 0.006, 0.006]}"
      ]
     },
     "execution_count": 15,
     "metadata": {},
     "output_type": "execute_result"
    }
   ],
   "source": [
    "exp4_results.history"
   ]
  },
  {
   "cell_type": "markdown",
   "metadata": {},
   "source": [
    "## Experiment 5: Adam, increasing batch size."
   ]
  },
  {
   "cell_type": "code",
   "execution_count": 16,
   "metadata": {},
   "outputs": [
    {
     "name": "stdout",
     "output_type": "stream",
     "text": [
      "Train on 60000 samples, validate on 10000 samples\n",
      "Epoch 1/2\n",
      "60000/60000 [==============================] - 6s 96us/sample - loss: 0.5131 - acc: 0.8641 - val_loss: 0.2429 - val_acc: 0.9281\n",
      "Epoch 2/2\n",
      "60000/60000 [==============================] - 6s 99us/sample - loss: 0.2061 - acc: 0.9408 - val_loss: 0.1536 - val_acc: 0.9556\n",
      "Train on 60000 samples, validate on 10000 samples\n",
      "Epoch 1/2\n",
      "60000/60000 [==============================] - 5s 88us/sample - loss: 0.1484 - acc: 0.9581 - val_loss: 0.1360 - val_acc: 0.9612\n",
      "Epoch 2/2\n",
      "60000/60000 [==============================] - 5s 88us/sample - loss: 0.1350 - acc: 0.9619 - val_loss: 0.1249 - val_acc: 0.9642\n",
      "Train on 60000 samples, validate on 10000 samples\n",
      "Epoch 1/2\n",
      "60000/60000 [==============================] - 5s 79us/sample - loss: 0.1254 - acc: 0.9648 - val_loss: 0.1223 - val_acc: 0.9647\n",
      "Epoch 2/2\n",
      "60000/60000 [==============================] - 5s 81us/sample - loss: 0.1231 - acc: 0.9656 - val_loss: 0.1206 - val_acc: 0.9658\n"
     ]
    }
   ],
   "source": [
    "reset_weights(model)\n",
    "nadam = Nadam() #The paper uses the default settings for Adam\n",
    "\n",
    "model.compile(\n",
    "    optimizer=nadam,  # Adam experiment.\n",
    "    loss='categorical_crossentropy',\n",
    "    metrics=['accuracy'],\n",
    ")\n",
    "\n",
    "# Just run each step independently. Keras has no callback for this.\n",
    "exp5_results = model.fit(\n",
    "    train_images,\n",
    "    to_categorical(train_labels),\n",
    "    epochs=2,\n",
    "    batch_size=batch_size,\n",
    "    validation_data=(test_images, to_categorical(test_labels))\n",
    ")\n",
    "tmp_results = model.fit(\n",
    "    train_images,\n",
    "    to_categorical(train_labels),\n",
    "    epochs=2,\n",
    "    batch_size=batch_size * 5,\n",
    "    validation_data=(test_images, to_categorical(test_labels))\n",
    ")\n",
    "\n",
    "for i in tmp_results.history.keys():\n",
    "    exp5_results.history[i].extend(tmp_results.history[i])\n",
    "\n",
    "tmp_results = model.fit(\n",
    "    train_images,\n",
    "    to_categorical(train_labels),\n",
    "    epochs=2,\n",
    "    batch_size=batch_size * 25,\n",
    "    validation_data=(test_images, to_categorical(test_labels))\n",
    ")\n",
    "\n",
    "for i in tmp_results.history.keys():\n",
    "    exp5_results.history[i].extend(tmp_results.history[i])"
   ]
  },
  {
   "cell_type": "code",
   "execution_count": 17,
   "metadata": {},
   "outputs": [
    {
     "data": {
      "text/plain": [
       "{'loss': [0.513140340608855,\n",
       "  0.2061198809494575,\n",
       "  0.1484100411956509,\n",
       "  0.13497188227872053,\n",
       "  0.1253632806862394,\n",
       "  0.12308977792660396],\n",
       " 'acc': [0.86415, 0.94081664, 0.95805, 0.9619167, 0.9647833, 0.96563333],\n",
       " 'val_loss': [0.24285398706793784,\n",
       "  0.1536485778540373,\n",
       "  0.1360220957547426,\n",
       "  0.12486526258289814,\n",
       "  0.12232028134167194,\n",
       "  0.12062463536858559],\n",
       " 'val_acc': [0.9281, 0.9556, 0.9612, 0.9642, 0.9647, 0.9658]}"
      ]
     },
     "execution_count": 17,
     "metadata": {},
     "output_type": "execute_result"
    }
   ],
   "source": [
    "exp5_results.history"
   ]
  },
  {
   "cell_type": "markdown",
   "metadata": {},
   "source": [
    "## Experiment 6: Adam, hybrid."
   ]
  },
  {
   "cell_type": "code",
   "execution_count": 18,
   "metadata": {},
   "outputs": [],
   "source": [
    "def hybrid_lr_decay_adam(epoch):\n",
    "    # Start off from the constant learning rate from the hybrid's initialization.\n",
    "    initial_lrate=0.001 #initial learning rate for Adam's Keras's default = 0.001\n",
    "    drop=0.2\n",
    "    epochs_drop=2.0\n",
    "    current_rate = initial_lrate * math.pow(drop, math.floor(epoch / epochs_drop))\n",
    "    print(\"Epoch %d learning rate: %f\" % (epoch + 1, current_rate))\n",
    "    return current_rate\n",
    "\n",
    "hybrid_lr_scheduler_adam = LearningRateScheduler(hybrid_lr_decay_adam)"
   ]
  },
  {
   "cell_type": "code",
   "execution_count": 19,
   "metadata": {},
   "outputs": [
    {
     "name": "stdout",
     "output_type": "stream",
     "text": [
      "Train on 60000 samples, validate on 10000 samples\n",
      "Epoch 1/2\n",
      "60000/60000 [==============================] - 7s 108us/sample - loss: 0.4142 - acc: 0.8851 - val_loss: 0.2215 - val_acc: 0.9389\n",
      "Epoch 2/2\n",
      "60000/60000 [==============================] - 6s 102us/sample - loss: 0.1861 - acc: 0.9473 - val_loss: 0.1451 - val_acc: 0.9580\n",
      "Train on 60000 samples, validate on 10000 samples\n",
      "Epoch 1 learning rate: 0.001000\n",
      "Epoch 1/4\n",
      "60000/60000 [==============================] - 8s 133us/sample - loss: 0.1342 - acc: 0.9628 - val_loss: 0.1301 - val_acc: 0.9635\n",
      "Epoch 2 learning rate: 0.001000\n",
      "Epoch 2/4\n",
      "60000/60000 [==============================] - 7s 114us/sample - loss: 0.1230 - acc: 0.9656 - val_loss: 0.1226 - val_acc: 0.9651\n",
      "Epoch 3 learning rate: 0.000200\n",
      "Epoch 3/4\n",
      "60000/60000 [==============================] - 7s 115us/sample - loss: 0.1146 - acc: 0.9689 - val_loss: 0.1207 - val_acc: 0.9660\n",
      "Epoch 4 learning rate: 0.000200\n",
      "Epoch 4/4\n",
      "60000/60000 [==============================] - 7s 114us/sample - loss: 0.1124 - acc: 0.9691 - val_loss: 0.1189 - val_acc: 0.9661\n"
     ]
    }
   ],
   "source": [
    "reset_weights(model)\n",
    "nadam = Nadam() #The paper uses the default settings for Adam\n",
    "\n",
    "model.compile(\n",
    "    optimizer=nadam,  # Adam experiment.\n",
    "    loss='categorical_crossentropy',\n",
    "    metrics=['accuracy'],\n",
    ")\n",
    "\n",
    "# Run a step, and then increase the batch size manually. The decay scheduler\n",
    "# will decay the learning rate in the next step.\n",
    "exp6_results = model.fit(\n",
    "    train_images,\n",
    "    to_categorical(train_labels),\n",
    "    epochs=2,\n",
    "    batch_size=batch_size,\n",
    "    validation_data=(test_images, to_categorical(test_labels))\n",
    ")\n",
    "tmp_results = model.fit(\n",
    "    train_images,\n",
    "    to_categorical(train_labels),\n",
    "    epochs=4,\n",
    "    batch_size=batch_size * 5,\n",
    "    validation_data=(test_images, to_categorical(test_labels)),\n",
    "    callbacks=[hybrid_lr_scheduler_adam]\n",
    ")\n",
    "\n",
    "for i in tmp_results.history.keys():\n",
    "    if i == 'lr':\n",
    "        continue\n",
    "    exp6_results.history[i].extend(tmp_results.history[i])"
   ]
  },
  {
   "cell_type": "code",
   "execution_count": 20,
   "metadata": {},
   "outputs": [
    {
     "data": {
      "text/plain": [
       "{'loss': [0.41419782443592945,\n",
       "  0.18614247323945166,\n",
       "  0.1341808730736375,\n",
       "  0.12300668253252904,\n",
       "  0.11459468708684047,\n",
       "  0.11243555704131722],\n",
       " 'acc': [0.8850833, 0.94725, 0.9628, 0.96563333, 0.96893334, 0.9690833],\n",
       " 'val_loss': [0.22146016359329224,\n",
       "  0.1451292433962226,\n",
       "  0.13013552501797676,\n",
       "  0.12260526977479458,\n",
       "  0.12067335024476052,\n",
       "  0.11885160058736802],\n",
       " 'val_acc': [0.9389, 0.958, 0.9635, 0.9651, 0.966, 0.9661]}"
      ]
     },
     "execution_count": 20,
     "metadata": {},
     "output_type": "execute_result"
    }
   ],
   "source": [
    "exp6_results.history"
   ]
  },
  {
   "cell_type": "markdown",
   "metadata": {},
   "source": [
    "## Experiment 7: SGD with momentum, decaying learning rate."
   ]
  },
  {
   "cell_type": "code",
   "execution_count": 21,
   "metadata": {},
   "outputs": [
    {
     "name": "stdout",
     "output_type": "stream",
     "text": [
      "Train on 60000 samples, validate on 10000 samples\n",
      "Epoch 1 learning rate: 0.150000\n",
      "Epoch 1/6\n",
      "60000/60000 [==============================] - 8s 127us/sample - loss: nan - acc: 0.0997 - val_loss: nan - val_acc: 0.0980\n",
      "Epoch 2 learning rate: 0.150000\n",
      "Epoch 2/6\n",
      "60000/60000 [==============================] - 8s 126us/sample - loss: nan - acc: 0.0987 - val_loss: nan - val_acc: 0.0980\n",
      "Epoch 3 learning rate: 0.030000\n",
      "Epoch 3/6\n",
      "60000/60000 [==============================] - 7s 122us/sample - loss: nan - acc: 0.0987 - val_loss: nan - val_acc: 0.0980\n",
      "Epoch 4 learning rate: 0.030000\n",
      "Epoch 4/6\n",
      "60000/60000 [==============================] - 7s 125us/sample - loss: nan - acc: 0.0987 - val_loss: nan - val_acc: 0.0980\n",
      "Epoch 5 learning rate: 0.006000\n",
      "Epoch 5/6\n",
      "60000/60000 [==============================] - 7s 117us/sample - loss: nan - acc: 0.0987 - val_loss: nan - val_acc: 0.0980\n",
      "Epoch 6 learning rate: 0.006000\n",
      "Epoch 6/6\n",
      "60000/60000 [==============================] - 7s 124us/sample - loss: nan - acc: 0.0987 - val_loss: nan - val_acc: 0.0980\n"
     ]
    }
   ],
   "source": [
    "reset_weights(model)\n",
    "learning_rate = 0.07  # Set a new constant.\n",
    "momentum = 0.1\n",
    "sgd = SGD(lr=learning_rate, momentum=momentum, decay=decay_rate, nesterov=True)\n",
    "\n",
    "model.compile(\n",
    "    optimizer=sgd,  # Vanilla SGD experiment.\n",
    "    loss='categorical_crossentropy',\n",
    "    metrics=['accuracy'],\n",
    ")\n",
    "\n",
    "# Train the model.\n",
    "decay_lr_scheduler = LearningRateScheduler(step_lr_decay)\n",
    "\n",
    "exp7_results = model.fit(\n",
    "    train_images,\n",
    "    to_categorical(train_labels),\n",
    "    epochs=epochs,\n",
    "    batch_size=batch_size,\n",
    "    validation_data=(test_images, to_categorical(test_labels)),\n",
    "    callbacks=[decay_lr_scheduler]\n",
    ")"
   ]
  },
  {
   "cell_type": "code",
   "execution_count": 22,
   "metadata": {},
   "outputs": [
    {
     "data": {
      "text/plain": [
       "{'loss': [nan, nan, nan, nan, nan, nan],\n",
       " 'acc': [0.09966667,\n",
       "  0.09871667,\n",
       "  0.09871667,\n",
       "  0.09871667,\n",
       "  0.09871667,\n",
       "  0.09871667],\n",
       " 'val_loss': [nan, nan, nan, nan, nan, nan],\n",
       " 'val_acc': [0.098, 0.098, 0.098, 0.098, 0.098, 0.098],\n",
       " 'lr': [0.15, 0.15, 0.03, 0.03, 0.006, 0.006]}"
      ]
     },
     "execution_count": 22,
     "metadata": {},
     "output_type": "execute_result"
    }
   ],
   "source": [
    "exp7_results.history"
   ]
  },
  {
   "cell_type": "markdown",
   "metadata": {},
   "source": [
    "## Experiment 8: SGD with momentum, increasing batch size."
   ]
  },
  {
   "cell_type": "code",
   "execution_count": 23,
   "metadata": {},
   "outputs": [
    {
     "name": "stdout",
     "output_type": "stream",
     "text": [
      "Train on 60000 samples, validate on 10000 samples\n",
      "Epoch 1/2\n",
      "60000/60000 [==============================] - 7s 122us/sample - loss: nan - acc: 0.0987 - val_loss: nan - val_acc: 0.0980\n",
      "Epoch 2/2\n",
      "60000/60000 [==============================] - 8s 125us/sample - loss: nan - acc: 0.0987 - val_loss: nan - val_acc: 0.0980\n",
      "Train on 60000 samples, validate on 10000 samples\n",
      "Epoch 1/2\n",
      "60000/60000 [==============================] - 7s 121us/sample - loss: nan - acc: 0.0987 - val_loss: nan - val_acc: 0.0980\n",
      "Epoch 2/2\n",
      "60000/60000 [==============================] - 6s 98us/sample - loss: nan - acc: 0.0987 - val_loss: nan - val_acc: 0.0980\n",
      "Train on 60000 samples, validate on 10000 samples\n",
      "Epoch 1/2\n",
      "60000/60000 [==============================] - 6s 106us/sample - loss: nan - acc: 0.0987 - val_loss: nan - val_acc: 0.0980\n",
      "Epoch 2/2\n",
      "60000/60000 [==============================] - 5s 90us/sample - loss: nan - acc: 0.0987 - val_loss: nan - val_acc: 0.0980\n"
     ]
    }
   ],
   "source": [
    "reset_weights(model)\n",
    "momentum = 0.1\n",
    "sgd = SGD(lr=learning_rate, momentum=momentum, decay=decay_rate, nesterov=False)\n",
    "\n",
    "model.compile(\n",
    "    optimizer=sgd,  # Vanilla SGD experiment.\n",
    "    loss='categorical_crossentropy',\n",
    "    metrics=['accuracy'],\n",
    ")\n",
    "\n",
    "# Just run each step independently. Keras has no callback for this.\n",
    "exp8_results = model.fit(\n",
    "    train_images,\n",
    "    to_categorical(train_labels),\n",
    "    epochs=2,\n",
    "    batch_size=batch_size,\n",
    "    validation_data=(test_images, to_categorical(test_labels))\n",
    ")\n",
    "tmp_results = model.fit(\n",
    "    train_images,\n",
    "    to_categorical(train_labels),\n",
    "    epochs=2,\n",
    "    batch_size=batch_size * 5,\n",
    "    validation_data=(test_images, to_categorical(test_labels))\n",
    ")\n",
    "\n",
    "for i in tmp_results.history.keys():\n",
    "    exp8_results.history[i].extend(tmp_results.history[i])\n",
    "\n",
    "tmp_results = model.fit(\n",
    "    train_images,\n",
    "    to_categorical(train_labels),\n",
    "    epochs=2,\n",
    "    batch_size=batch_size * 25,\n",
    "    validation_data=(test_images, to_categorical(test_labels))\n",
    ")\n",
    "\n",
    "for i in tmp_results.history.keys():\n",
    "    exp8_results.history[i].extend(tmp_results.history[i])\n"
   ]
  },
  {
   "cell_type": "code",
   "execution_count": 24,
   "metadata": {
    "scrolled": false
   },
   "outputs": [
    {
     "data": {
      "text/plain": [
       "{'loss': [nan, nan, nan, nan, nan, nan],\n",
       " 'acc': [0.09871667,\n",
       "  0.09871667,\n",
       "  0.09871667,\n",
       "  0.09871667,\n",
       "  0.09871667,\n",
       "  0.09871667],\n",
       " 'val_loss': [nan, nan, nan, nan, nan, nan],\n",
       " 'val_acc': [0.098, 0.098, 0.098, 0.098, 0.098, 0.098]}"
      ]
     },
     "execution_count": 24,
     "metadata": {},
     "output_type": "execute_result"
    }
   ],
   "source": [
    "exp8_results.history"
   ]
  },
  {
   "cell_type": "markdown",
   "metadata": {},
   "source": [
    "## Experiment 9: SGD with momentum, hybrid."
   ]
  },
  {
   "cell_type": "code",
   "execution_count": 25,
   "metadata": {},
   "outputs": [
    {
     "name": "stdout",
     "output_type": "stream",
     "text": [
      "Train on 60000 samples, validate on 10000 samples\n",
      "Epoch 1/2\n",
      "60000/60000 [==============================] - 6s 96us/sample - loss: nan - acc: 0.0987 - val_loss: nan - val_acc: 0.0980\n",
      "Epoch 2/2\n",
      "60000/60000 [==============================] - 6s 93us/sample - loss: nan - acc: 0.0987 - val_loss: nan - val_acc: 0.0980\n",
      "Train on 60000 samples, validate on 10000 samples\n",
      "Epoch 1 learning rate: 0.050000\n",
      "Epoch 1/4\n",
      "60000/60000 [==============================] - 5s 86us/sample - loss: nan - acc: 0.0987 - val_loss: nan - val_acc: 0.0980\n",
      "Epoch 2 learning rate: 0.050000\n",
      "Epoch 2/4\n",
      "60000/60000 [==============================] - 5s 84us/sample - loss: nan - acc: 0.0987 - val_loss: nan - val_acc: 0.0980\n",
      "Epoch 3 learning rate: 0.010000\n",
      "Epoch 3/4\n",
      "60000/60000 [==============================] - 5s 83us/sample - loss: nan - acc: 0.0987 - val_loss: nan - val_acc: 0.0980\n",
      "Epoch 4 learning rate: 0.010000\n",
      "Epoch 4/4\n",
      "60000/60000 [==============================] - 5s 83us/sample - loss: nan - acc: 0.0987 - val_loss: nan - val_acc: 0.0980\n"
     ]
    }
   ],
   "source": [
    "reset_weights(model)\n",
    "learning_rate = 0.05  # Set a new constant.\n",
    "momentum = 0.1\n",
    "sgd = SGD(lr=learning_rate, momentum=momentum, decay=decay_rate, nesterov=False)\n",
    "\n",
    "model.compile(\n",
    "    optimizer=sgd,  # Vanilla SGD experiment.\n",
    "    loss='categorical_crossentropy',\n",
    "    metrics=['accuracy'],\n",
    ")\n",
    "\n",
    "# Run a step, and then increase the batch size manually. The decay scheduler\n",
    "# will decay the learning rate in the next step.\n",
    "exp9_results = model.fit(\n",
    "    train_images,\n",
    "    to_categorical(train_labels),\n",
    "    epochs=2,\n",
    "    batch_size=batch_size,\n",
    "    validation_data=(test_images, to_categorical(test_labels))\n",
    ")\n",
    "\n",
    "tmp_results = model.fit(\n",
    "    train_images,\n",
    "    to_categorical(train_labels),\n",
    "    epochs=4,\n",
    "    batch_size=batch_size * 5,\n",
    "    validation_data=(test_images, to_categorical(test_labels)),\n",
    "    callbacks=[hybrid_lr_scheduler]\n",
    ")\n",
    "\n",
    "for i in tmp_results.history.keys():\n",
    "    if i == 'lr':\n",
    "        continue\n",
    "    exp9_results.history[i].extend(tmp_results.history[i])"
   ]
  },
  {
   "cell_type": "code",
   "execution_count": 26,
   "metadata": {},
   "outputs": [
    {
     "data": {
      "text/plain": [
       "{'loss': [nan, nan, nan, nan, nan, nan],\n",
       " 'acc': [0.09871667,\n",
       "  0.09871667,\n",
       "  0.09871667,\n",
       "  0.09871667,\n",
       "  0.09871667,\n",
       "  0.09871667],\n",
       " 'val_loss': [nan, nan, nan, nan, nan, nan],\n",
       " 'val_acc': [0.098, 0.098, 0.098, 0.098, 0.098, 0.098]}"
      ]
     },
     "execution_count": 26,
     "metadata": {},
     "output_type": "execute_result"
    }
   ],
   "source": [
    "exp9_results.history"
   ]
  },
  {
   "cell_type": "markdown",
   "metadata": {},
   "source": [
    "## Experiment 1-3 Plots"
   ]
  },
  {
   "cell_type": "code",
   "execution_count": 41,
   "metadata": {},
   "outputs": [],
   "source": [
    "import matplotlib\n",
    "import matplotlib.pyplot as plt"
   ]
  },
  {
   "cell_type": "code",
   "execution_count": 42,
   "metadata": {},
   "outputs": [
    {
     "data": {
      "image/png": "[encoded data removed]",
      "text/plain": [
       "<Figure size 432x288 with 1 Axes>"
      ]
     },
     "metadata": {
      "needs_background": "light"
     },
     "output_type": "display_data"
    }
   ],
   "source": [
    "f_vanillasgd, a_vanillasgd = plt.subplots()\n",
    "a_vanillasgd.plot(range(1,7), exp1_results.history[\"val_acc\"], label=\"Decaying L-rate\")\n",
    "a_vanillasgd.plot(range(1,7), exp3_results.history[\"val_acc\"], label=\"Hybrid\")\n",
    "a_vanillasgd.plot(range(1,7), exp2_results.history[\"val_acc\"], label=\"Increasing Batch\")\n",
    "\n",
    "legend = a_vanillasgd.legend(loc='lower right', shadow=True, fontsize='medium')\n",
    "a_vanillasgd.set(xlabel='epochs', ylabel='val acc', title='Vanilla SGD')\n",
    "a_vanillasgd.grid()\n",
    "\n",
    "f_vanillasgd.savefig(\"vanilla_sgd.png\")"
   ]
  },
  {
   "cell_type": "markdown",
   "metadata": {},
   "source": [
    "## Experiment 4-6 Plots"
   ]
  },
  {
   "cell_type": "code",
   "execution_count": 43,
   "metadata": {},
   "outputs": [
    {
     "data": {
      "image/png": "[encoded data removed]",
      "text/plain": [
       "<Figure size 432x288 with 1 Axes>"
      ]
     },
     "metadata": {
      "needs_background": "light"
     },
     "output_type": "display_data"
    }
   ],
   "source": [
    "f_adam, a_adam = plt.subplots()\n",
    "a_adam.plot(range(1,7), exp4_results.history[\"val_acc\"], label=\"Decaying L-rate\")\n",
    "a_adam.plot(range(1,7), exp6_results.history[\"val_acc\"], label=\"Hybrid\")\n",
    "a_adam.plot(range(1,7), exp5_results.history[\"val_acc\"], label=\"Increasing Batch\")\n",
    "\n",
    "legend = a_adam.legend(loc='lower right', shadow=True, fontsize='medium')\n",
    "a_adam.set(xlabel='epochs', ylabel='val acc', title='Adam')\n",
    "a_adam.grid()\n",
    "\n",
    "f_adam.savefig(\"adam.png\")"
   ]
  },
  {
   "cell_type": "markdown",
   "metadata": {},
   "source": [
    "## Experiment 7-9 Plots"
   ]
  },
  {
   "cell_type": "code",
   "execution_count": 44,
   "metadata": {},
   "outputs": [
    {
     "data": {
      "image/png": "[encoded data removed]",
      "text/plain": [
       "<Figure size 432x288 with 1 Axes>"
      ]
     },
     "metadata": {
      "needs_background": "light"
     },
     "output_type": "display_data"
    }
   ],
   "source": [
    "f_sgdm, a_sgdm = plt.subplots()\n",
    "a_sgdm.plot(range(1,7), exp7_results.history[\"val_acc\"], label=\"Decaying L-rate\")\n",
    "a_sgdm.plot(range(1,7), exp9_results.history[\"val_acc\"], label=\"Hybrid\")\n",
    "a_sgdm.plot(range(1,7), exp8_results.history[\"val_acc\"], label=\"Increasing Batch\")\n",
    "\n",
    "legend = a_sgdm.legend(loc='lower right', shadow=True, fontsize='medium')\n",
    "a_sgdm.set(xlabel='epochs', ylabel='val acc', title='SGD with momentum')\n",
    "a_sgdm.grid()\n",
    "\n",
    "f_sgdm.savefig(\"sgd_with_momentum.png\")"
   ]
  },
  {
   "cell_type": "code",
   "execution_count": null,
   "metadata": {},
   "outputs": [],
   "source": []
  }
 ],
 "metadata": {
  "kernelspec": {
   "display_name": "Python 3",
   "language": "python",
   "name": "python3"
  },
  "language_info": {
   "codemirror_mode": {
    "name": "ipython",
    "version": 3
   },
   "file_extension": ".py",
   "mimetype": "text/x-python",
   "name": "python",
   "nbconvert_exporter": "python",
   "pygments_lexer": "ipython3",
   "version": "3.7.4"
  }
 },
 "nbformat": 4,
 "nbformat_minor": 2
}
