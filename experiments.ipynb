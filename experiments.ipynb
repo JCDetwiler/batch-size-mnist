{
 "cells": [
  {
   "cell_type": "markdown",
   "metadata": {},
   "source": [
    "## Adapted from Victor Zhou's CNN published at [this blog post](https://victorzhou.com/blog/keras-cnn-tutorial/)."
   ]
  },
  {
   "cell_type": "code",
   "execution_count": 1,
   "metadata": {},
   "outputs": [],
   "source": [
    "import math\n",
    "import mnist\n",
    "import numpy as np\n",
    "import time\n",
    "\n",
    "# Using tf.keras for Ghost Batch Norm capability.\n",
    "import tensorflow.keras.backend as K\n",
    "from tensorflow.keras.models import Sequential\n",
    "from tensorflow.keras.layers import Conv2D, MaxPooling2D, Dense, Flatten, BatchNormalization\n",
    "from tensorflow.keras.optimizers import SGD\n",
    "from tensorflow.keras.utils import to_categorical\n",
    "from tensorflow.keras.callbacks import LearningRateScheduler, Callback\n",
    "from tensorflow.keras.optimizers import Nadam\n",
    "\n",
    "import tensorflow as tf\n",
    "#print(tf.version)\n",
    "# Disable INFO and WARNING messages from TensorFlow.\n",
    "# Our Keras version (2.2.4 / TF 1.15.0) throws deprecation warnings.\n",
    "tf.logging.set_verbosity(tf.logging.ERROR)"
   ]
  },
  {
   "cell_type": "code",
   "execution_count": 2,
   "metadata": {},
   "outputs": [],
   "source": [
    "train_images = mnist.train_images() \n",
    "train_labels = mnist.train_labels()\n",
    "test_images = mnist.test_images()\n",
    "test_labels = mnist.test_labels()\n",
    "\n",
    "# Normalize the images.\n",
    "train_images = (train_images / 255) - 0.5\n",
    "test_images = (test_images / 255) - 0.5\n",
    "\n",
    "# Reshape the images.\n",
    "train_images = np.expand_dims(train_images, axis=3)\n",
    "test_images = np.expand_dims(test_images, axis=3)\n",
    "\n",
    "num_filters = 8\n",
    "filter_size = 3\n",
    "pool_size = 2"
   ]
  },
  {
   "cell_type": "code",
   "execution_count": 3,
   "metadata": {},
   "outputs": [],
   "source": [
    "# Build the model.\n",
    "batch_size = 100       # TODO: make this less arbitrary.\n",
    "ghost_batch_size = 10  # TODO: make this less arbitrary.\n",
    "\n",
    "model = Sequential([\n",
    "    # The authors required ghost batch normalization in their experiments.\n",
    "    # The papers they reference use normalization preceding each convolutional layer.\n",
    "    BatchNormalization(virtual_batch_size=ghost_batch_size),\n",
    "    Conv2D(filters=num_filters, kernel_size=filter_size, input_shape=(28, 28, 1)),\n",
    "    MaxPooling2D(pool_size=pool_size),\n",
    "    Flatten(),\n",
    "    Dense(units=10, activation='softmax'),\n",
    "])"
   ]
  },
  {
   "cell_type": "code",
   "execution_count": 4,
   "metadata": {},
   "outputs": [],
   "source": [
    "class TimeHistory(Callback):\n",
    "    def on_train_begin(self, logs={}):\n",
    "        self.time = 0\n",
    "\n",
    "    def on_epoch_begin(self, epoch, logs={}):\n",
    "        self.epoch_time_start = time.time()\n",
    "\n",
    "    def on_epoch_end(self, epoch, logs={}):\n",
    "        self.time += time.time() - self.epoch_time_start"
   ]
  },
  {
   "cell_type": "code",
   "execution_count": 5,
   "metadata": {},
   "outputs": [],
   "source": [
    "# Adapted from https://machinelearningmastery.com/using-learning-rate-schedules-deep-learning-models-python-keras/\n",
    "def step_lr_decay(epoch):\n",
    "    # This starts with a learning rate higher than the default learning rate in\n",
    "    # Vanilla SGD. It drops by a factor of 5 each step, and I chose to drop after\n",
    "    # every other epoch to make training not take too long on a laptop.\n",
    "    # Think of this as a half-life equation.\n",
    "    initial_lrate=0.15\n",
    "    drop=0.2\n",
    "    epochs_drop=2.0\n",
    "    current_rate = initial_lrate * math.pow(drop, math.floor(epoch / epochs_drop))\n",
    "    print(\"Epoch %d learning rate: %f\" % (epoch + 1, current_rate))\n",
    "    return current_rate"
   ]
  },
  {
   "cell_type": "code",
   "execution_count": 6,
   "metadata": {},
   "outputs": [],
   "source": [
    "# Compile the model.\n",
    "epochs = 6            # Run enough epochs to test the training schedule.\n",
    "learning_rate = 0.00  # Will be overrided by the scheduler.\n",
    "decay_rate = 0.00     # Default decay rate.\n",
    "momentum = 0.0        # Default momentum.\n",
    "\n",
    "sgd = SGD(lr=learning_rate, momentum=momentum, decay=decay_rate, nesterov=False)\n",
    "\n",
    "model.compile(\n",
    "    optimizer=sgd,  # Vanilla SGD experiment.\n",
    "    loss='categorical_crossentropy',\n",
    "    metrics=['accuracy'],\n",
    ")"
   ]
  },
  {
   "cell_type": "markdown",
   "metadata": {},
   "source": [
    "## Experiment 1: Vanilla SGD, decaying learning rate."
   ]
  },
  {
   "cell_type": "code",
   "execution_count": 7,
   "metadata": {},
   "outputs": [
    {
     "name": "stdout",
     "output_type": "stream",
     "text": [
      "Train on 60000 samples, validate on 10000 samples\n",
      "Epoch 1 learning rate: 0.150000\n",
      "Epoch 1/6\n",
      "60000/60000 [==============================] - 6s 98us/sample - loss: 0.2627 - acc: 0.9215 - val_loss: 0.1237 - val_acc: 0.9608\n",
      "Epoch 2 learning rate: 0.150000\n",
      "Epoch 2/6\n",
      "60000/60000 [==============================] - 6s 98us/sample - loss: 0.1249 - acc: 0.9623 - val_loss: 0.0934 - val_acc: 0.9707\n",
      "Epoch 3 learning rate: 0.030000\n",
      "Epoch 3/6\n",
      "60000/60000 [==============================] - 6s 97us/sample - loss: 0.0767 - acc: 0.9778 - val_loss: 0.0792 - val_acc: 0.9749\n",
      "Epoch 4 learning rate: 0.030000\n",
      "Epoch 4/6\n",
      "60000/60000 [==============================] - 6s 97us/sample - loss: 0.0696 - acc: 0.9797 - val_loss: 0.0779 - val_acc: 0.9750\n",
      "Epoch 5 learning rate: 0.006000\n",
      "Epoch 5/6\n",
      "60000/60000 [==============================] - 6s 98us/sample - loss: 0.0621 - acc: 0.9819 - val_loss: 0.0751 - val_acc: 0.9768\n",
      "Epoch 6 learning rate: 0.006000\n",
      "Epoch 6/6\n",
      "60000/60000 [==============================] - 6s 97us/sample - loss: 0.0613 - acc: 0.9819 - val_loss: 0.0750 - val_acc: 0.9766\n"
     ]
    }
   ],
   "source": [
    "# Train the model.\n",
    "decay_lr_scheduler = LearningRateScheduler(step_lr_decay)\n",
    "time_callback = TimeHistory()\n",
    "\n",
    "exp1_results = model.fit(\n",
    "    train_images,\n",
    "    to_categorical(train_labels),\n",
    "    epochs=epochs,\n",
    "    batch_size=batch_size,\n",
    "    validation_data=(test_images, to_categorical(test_labels)),\n",
    "    callbacks=[decay_lr_scheduler, time_callback]\n",
    ")"
   ]
  },
  {
   "cell_type": "code",
   "execution_count": 8,
   "metadata": {},
   "outputs": [
    {
     "name": "stdout",
     "output_type": "stream",
     "text": [
      "{'loss': [0.2626516235154122, 0.12486908462519447, 0.07670254747848958, 0.06959664875719075, 0.062060326189578824, 0.061309692052503424], 'acc': [0.92155, 0.9622667, 0.97783333, 0.97975, 0.98193336, 0.98191667], 'val_loss': [0.12371403381228446, 0.09342036141082645, 0.0792184588778764, 0.07794096438214183, 0.07513288855552673, 0.0750067605637014], 'val_acc': [0.9608, 0.9707, 0.9749, 0.975, 0.9768, 0.9766], 'lr': [0.15, 0.15, 0.03, 0.03, 0.006, 0.006]}\n",
      "\n",
      "35.15199947357178\n"
     ]
    }
   ],
   "source": [
    "print(exp1_results.history)\n",
    "print(\"\")\n",
    "print(time_callback.time)\n",
    "times = []\n",
    "times.append(time_callback.time)"
   ]
  },
  {
   "cell_type": "markdown",
   "metadata": {},
   "source": [
    "## Experiment 2: Vanilla SGD, increasing batch size."
   ]
  },
  {
   "cell_type": "code",
   "execution_count": 9,
   "metadata": {},
   "outputs": [],
   "source": [
    "# Keras has no built in for this. \n",
    "# Code is from https://www.codementor.io/nitinsurya/how-to-re-initialize-keras-model-weights-et41zre2g\n",
    "def reset_weights(model):\n",
    "    session = K.get_session()\n",
    "    for layer in model.layers: \n",
    "        if hasattr(layer, 'kernel_initializer'):\n",
    "            layer.kernel.initializer.run(session=session)"
   ]
  },
  {
   "cell_type": "code",
   "execution_count": 10,
   "metadata": {},
   "outputs": [
    {
     "name": "stdout",
     "output_type": "stream",
     "text": [
      "Train on 60000 samples, validate on 10000 samples\n",
      "Epoch 1/2\n",
      "60000/60000 [==============================] - 6s 101us/sample - loss: 0.2917 - acc: 0.9137 - val_loss: 0.1402 - val_acc: 0.9587\n",
      "Epoch 2/2\n",
      "60000/60000 [==============================] - 6s 99us/sample - loss: 0.1293 - acc: 0.9627 - val_loss: 0.1065 - val_acc: 0.9676\n",
      "12.018999814987183\n",
      "Train on 60000 samples, validate on 10000 samples\n",
      "Epoch 1/2\n",
      "60000/60000 [==============================] - 6s 93us/sample - loss: 0.0877 - acc: 0.9751 - val_loss: 0.0885 - val_acc: 0.9721\n",
      "Epoch 2/2\n",
      "60000/60000 [==============================] - 6s 93us/sample - loss: 0.0809 - acc: 0.9766 - val_loss: 0.0837 - val_acc: 0.9732\n",
      "23.168999671936035\n",
      "Train on 60000 samples, validate on 10000 samples\n",
      "Epoch 1/2\n",
      "60000/60000 [==============================] - 5s 83us/sample - loss: 0.0735 - acc: 0.9792 - val_loss: 0.0816 - val_acc: 0.9743\n",
      "Epoch 2/2\n",
      "60000/60000 [==============================] - 5s 84us/sample - loss: 0.0721 - acc: 0.9797 - val_loss: 0.0810 - val_acc: 0.9744\n",
      "33.190999269485474\n"
     ]
    }
   ],
   "source": [
    "reset_weights(model)\n",
    "learning_rate = 0.07  # Set a new constant.\n",
    "sgd = SGD(lr=learning_rate, momentum=momentum, decay=decay_rate, nesterov=False)\n",
    "\n",
    "model.compile(\n",
    "    optimizer=sgd,  # Vanilla SGD experiment.\n",
    "    loss='categorical_crossentropy',\n",
    "    metrics=['accuracy'],\n",
    ")\n",
    "\n",
    "# Just run each step independently. Keras has no callback for this.\n",
    "exp2_results = model.fit(\n",
    "    train_images,\n",
    "    to_categorical(train_labels),\n",
    "    epochs=2,\n",
    "    batch_size=batch_size,\n",
    "    validation_data=(test_images, to_categorical(test_labels)),\n",
    "    callbacks=[time_callback]\n",
    ")\n",
    "time_tmp = time_callback.time\n",
    "print(time_tmp)\n",
    "tmp_results = model.fit(\n",
    "    train_images,\n",
    "    to_categorical(train_labels),\n",
    "    epochs=2,\n",
    "    batch_size=batch_size * 5,\n",
    "    validation_data=(test_images, to_categorical(test_labels)),\n",
    "    callbacks=[time_callback]\n",
    ")\n",
    "time_tmp += time_callback.time\n",
    "print(time_tmp)\n",
    "\n",
    "for i in tmp_results.history.keys():\n",
    "    exp2_results.history[i].extend(tmp_results.history[i])\n",
    "\n",
    "tmp_results = model.fit(\n",
    "    train_images,\n",
    "    to_categorical(train_labels),\n",
    "    epochs=2,\n",
    "    batch_size=batch_size * 25,\n",
    "    validation_data=(test_images, to_categorical(test_labels)),\n",
    "    callbacks=[time_callback]\n",
    ")\n",
    "time_tmp += time_callback.time\n",
    "print(time_tmp)\n",
    "\n",
    "for i in tmp_results.history.keys():\n",
    "    exp2_results.history[i].extend(tmp_results.history[i])\n"
   ]
  },
  {
   "cell_type": "code",
   "execution_count": 11,
   "metadata": {},
   "outputs": [
    {
     "name": "stdout",
     "output_type": "stream",
     "text": [
      "{'loss': [0.2916669948771596, 0.1292655826266855, 0.08771094412853321, 0.08093718315164249, 0.0735211259064575, 0.07205248313645522], 'acc': [0.91366667, 0.9626833, 0.97508335, 0.97665, 0.9792167, 0.97975], 'val_loss': [0.1402483084052801, 0.10653930706903339, 0.08846086170524359, 0.08368968516588211, 0.08158365450799465, 0.08095896244049072], 'val_acc': [0.9587, 0.9676, 0.9721, 0.9732, 0.9743, 0.9744]}\n",
      "[35.15199947357178, 33.190999269485474]\n"
     ]
    }
   ],
   "source": [
    "print(exp2_results.history)\n",
    "times.append(time_tmp)\n",
    "print(times)"
   ]
  },
  {
   "cell_type": "markdown",
   "metadata": {},
   "source": [
    "## Experiment 3: Vanilla SGD, hybrid."
   ]
  },
  {
   "cell_type": "code",
   "execution_count": 12,
   "metadata": {},
   "outputs": [],
   "source": [
    "def hybrid_lr_decay(epoch):\n",
    "    # Start off from the constant learning rate from the hybrid's initialization.\n",
    "    initial_lrate=0.05\n",
    "    drop=0.2\n",
    "    epochs_drop=2.0\n",
    "    current_rate = initial_lrate * math.pow(drop, math.floor(epoch / epochs_drop))\n",
    "    print(\"Epoch %d learning rate: %f\" % (epoch + 1, current_rate))\n",
    "    return current_rate\n",
    "\n",
    "hybrid_lr_scheduler = LearningRateScheduler(hybrid_lr_decay)"
   ]
  },
  {
   "cell_type": "code",
   "execution_count": 13,
   "metadata": {},
   "outputs": [
    {
     "name": "stdout",
     "output_type": "stream",
     "text": [
      "Train on 60000 samples, validate on 10000 samples\n",
      "Epoch 1/2\n",
      "60000/60000 [==============================] - 6s 101us/sample - loss: 0.2613 - acc: 0.9234 - val_loss: 0.1329 - val_acc: 0.9615\n",
      "Epoch 2/2\n",
      "60000/60000 [==============================] - 6s 100us/sample - loss: 0.1227 - acc: 0.9633 - val_loss: 0.1038 - val_acc: 0.9685\n",
      "Train on 60000 samples, validate on 10000 samples\n",
      "Epoch 1 learning rate: 0.050000\n",
      "Epoch 1/4\n",
      "60000/60000 [==============================] - 6s 93us/sample - loss: 0.0843 - acc: 0.9756 - val_loss: 0.0839 - val_acc: 0.9745\n",
      "Epoch 2 learning rate: 0.050000\n",
      "Epoch 2/4\n",
      "60000/60000 [==============================] - 6s 93us/sample - loss: 0.0781 - acc: 0.9773 - val_loss: 0.0803 - val_acc: 0.9758\n",
      "Epoch 3 learning rate: 0.010000\n",
      "Epoch 3/4\n",
      "60000/60000 [==============================] - 6s 94us/sample - loss: 0.0716 - acc: 0.9796 - val_loss: 0.0790 - val_acc: 0.9762\n",
      "Epoch 4 learning rate: 0.010000\n",
      "Epoch 4/4\n",
      "60000/60000 [==============================] - 6s 93us/sample - loss: 0.0701 - acc: 0.9800 - val_loss: 0.0784 - val_acc: 0.9759\n"
     ]
    }
   ],
   "source": [
    "reset_weights(model)\n",
    "learning_rate = 0.05  # Set a new constant.\n",
    "sgd = SGD(lr=learning_rate, momentum=momentum, decay=decay_rate, nesterov=False)\n",
    "\n",
    "model.compile(\n",
    "    optimizer=sgd,  # Vanilla SGD experiment.\n",
    "    loss='categorical_crossentropy',\n",
    "    metrics=['accuracy'],\n",
    ")\n",
    "\n",
    "# Run a step, and then increase the batch size manually. The decay scheduler\n",
    "# will decay the learning rate in the next step.\n",
    "exp3_results = model.fit(\n",
    "    train_images,\n",
    "    to_categorical(train_labels),\n",
    "    epochs=2,\n",
    "    batch_size=batch_size,\n",
    "    validation_data=(test_images, to_categorical(test_labels)),\n",
    "    callbacks=[time_callback]\n",
    ")\n",
    "time_tmp = time_callback.time\n",
    "\n",
    "tmp_results = model.fit(\n",
    "    train_images,\n",
    "    to_categorical(train_labels),\n",
    "    epochs=4,\n",
    "    batch_size=batch_size * 5,\n",
    "    validation_data=(test_images, to_categorical(test_labels)),\n",
    "    callbacks=[hybrid_lr_scheduler, time_callback]\n",
    ")\n",
    "time_tmp += time_callback.time\n",
    "\n",
    "for i in tmp_results.history.keys():\n",
    "    if i == 'lr':\n",
    "        continue\n",
    "    exp3_results.history[i].extend(tmp_results.history[i])"
   ]
  },
  {
   "cell_type": "code",
   "execution_count": 14,
   "metadata": {},
   "outputs": [
    {
     "name": "stdout",
     "output_type": "stream",
     "text": [
      "{'loss': [0.26127125553165875, 0.1226835576320688, 0.08428708047916492, 0.07808773337552945, 0.0715997357542316, 0.07014655467743675], 'acc': [0.9234, 0.9633333, 0.9755833, 0.9773333, 0.97961664, 0.97996664], 'val_loss': [0.1329448164999485, 0.10383092621341347, 0.08387802243232727, 0.08029752373695373, 0.07898560650646687, 0.07836616709828377], 'val_acc': [0.9615, 0.9685, 0.9745, 0.9758, 0.9762, 0.9759]}\n",
      "[35.15199947357178, 33.190999269485474, 34.424999475479126]\n"
     ]
    }
   ],
   "source": [
    "print(exp3_results.history)\n",
    "times.append(time_tmp)\n",
    "print(times)"
   ]
  },
  {
   "cell_type": "markdown",
   "metadata": {},
   "source": [
    "## Experiment 4: Adam, decaying learning rate"
   ]
  },
  {
   "cell_type": "code",
   "execution_count": 15,
   "metadata": {},
   "outputs": [
    {
     "name": "stdout",
     "output_type": "stream",
     "text": [
      "Train on 60000 samples, validate on 10000 samples\n",
      "Epoch 1 learning rate: 0.150000\n",
      "Epoch 1/6\n",
      "60000/60000 [==============================] - 6s 105us/sample - loss: 1.5461 - acc: 0.9139 - val_loss: 0.1346 - val_acc: 0.9604\n",
      "Epoch 2 learning rate: 0.150000\n",
      "Epoch 2/6\n",
      "60000/60000 [==============================] - 6s 102us/sample - loss: 0.1380 - acc: 0.9595 - val_loss: 0.1180 - val_acc: 0.9633\n",
      "Epoch 3 learning rate: 0.030000\n",
      "Epoch 3/6\n",
      "60000/60000 [==============================] - 6s 102us/sample - loss: 0.0816 - acc: 0.9760 - val_loss: 0.0894 - val_acc: 0.9723\n",
      "Epoch 4 learning rate: 0.030000\n",
      "Epoch 4/6\n",
      "60000/60000 [==============================] - 6s 102us/sample - loss: 0.0736 - acc: 0.9776 - val_loss: 0.0850 - val_acc: 0.9742\n",
      "Epoch 5 learning rate: 0.006000\n",
      "Epoch 5/6\n",
      "60000/60000 [==============================] - 6s 102us/sample - loss: 0.0572 - acc: 0.9830 - val_loss: 0.0790 - val_acc: 0.9765\n",
      "Epoch 6 learning rate: 0.006000\n",
      "Epoch 6/6\n",
      "60000/60000 [==============================] - 6s 102us/sample - loss: 0.0548 - acc: 0.9838 - val_loss: 0.0803 - val_acc: 0.9760\n"
     ]
    }
   ],
   "source": [
    "'''\n",
    "# Adapted from https://machinelearningmastery.com/using-learning-rate-schedules-deep-learning-models-python-keras/\n",
    "def step_lr_decay_adam(epoch):\n",
    "    # Same learning-rate decaying algorithm as Vanilla SGD, except setting the initial rate to 0.001\n",
    "    initial_lrate=0.001\n",
    "    drop=0.2\n",
    "    epochs_drop=2.0\n",
    "    current_rate = initial_lrate * math.pow(drop, math.floor(epoch / epochs_drop))\n",
    "    print(\"Epoch %d learning rate: %f\" % (epoch + 1, current_rate))\n",
    "    return current_rate\n",
    "'''\n",
    "reset_weights(model)\n",
    "nadam = Nadam() #The paper uses the default settings for Adam\n",
    "\n",
    "model.compile(\n",
    "    optimizer=nadam,  # Adam experiment.\n",
    "    loss='categorical_crossentropy',\n",
    "    metrics=['accuracy'],\n",
    ")\n",
    "\n",
    "# Train the model.\n",
    "decay_lr_scheduler = LearningRateScheduler(step_lr_decay)\n",
    "\n",
    "exp4_results = model.fit(\n",
    "    train_images,\n",
    "    to_categorical(train_labels),\n",
    "    epochs=epochs,\n",
    "    batch_size=batch_size,\n",
    "    validation_data=(test_images, to_categorical(test_labels)),\n",
    "    callbacks=[decay_lr_scheduler, time_callback]\n",
    ")"
   ]
  },
  {
   "cell_type": "code",
   "execution_count": 16,
   "metadata": {},
   "outputs": [
    {
     "name": "stdout",
     "output_type": "stream",
     "text": [
      "{'loss': [1.5460891580892107, 0.137986951743563, 0.08163573156576603, 0.07361573048712065, 0.05721136961520339, 0.0547628556843847], 'acc': [0.91386664, 0.9594833, 0.97601664, 0.97763336, 0.98301667, 0.9837833], 'val_loss': [0.13464369904249907, 0.11796167701482772, 0.08939796333201229, 0.08498491549864412, 0.0790168394614011, 0.0802736328355968], 'val_acc': [0.9604, 0.9633, 0.9723, 0.9742, 0.9765, 0.976], 'lr': [0.15, 0.15, 0.03, 0.03, 0.006, 0.006]}\n",
      "[35.15199947357178, 33.190999269485474, 34.424999475479126, 36.926000356674194]\n"
     ]
    }
   ],
   "source": [
    "print(exp4_results.history)\n",
    "times.append(time_callback.time)\n",
    "print(times)"
   ]
  },
  {
   "cell_type": "markdown",
   "metadata": {},
   "source": [
    "## Experiment 5: Adam, increasing batch size."
   ]
  },
  {
   "cell_type": "code",
   "execution_count": 17,
   "metadata": {},
   "outputs": [
    {
     "name": "stdout",
     "output_type": "stream",
     "text": [
      "Train on 60000 samples, validate on 10000 samples\n",
      "Epoch 1/2\n",
      "60000/60000 [==============================] - 6s 106us/sample - loss: 0.4911 - acc: 0.8644 - val_loss: 0.2520 - val_acc: 0.9291\n",
      "Epoch 2/2\n",
      "60000/60000 [==============================] - 6s 102us/sample - loss: 0.2230 - acc: 0.9356 - val_loss: 0.1796 - val_acc: 0.9502\n",
      "Train on 60000 samples, validate on 10000 samples\n",
      "Epoch 1/2\n",
      "60000/60000 [==============================] - 6s 93us/sample - loss: 0.1701 - acc: 0.9528 - val_loss: 0.1645 - val_acc: 0.9520\n",
      "Epoch 2/2\n",
      "60000/60000 [==============================] - 6s 94us/sample - loss: 0.1589 - acc: 0.9560 - val_loss: 0.1527 - val_acc: 0.9556\n",
      "Train on 60000 samples, validate on 10000 samples\n",
      "Epoch 1/2\n",
      "60000/60000 [==============================] - 5s 84us/sample - loss: 0.1495 - acc: 0.9587 - val_loss: 0.1505 - val_acc: 0.9563\n",
      "Epoch 2/2\n",
      "60000/60000 [==============================] - 5s 84us/sample - loss: 0.1476 - acc: 0.9588 - val_loss: 0.1490 - val_acc: 0.9569\n"
     ]
    }
   ],
   "source": [
    "reset_weights(model)\n",
    "nadam = Nadam() #The paper uses the default settings for Adam\n",
    "\n",
    "model.compile(\n",
    "    optimizer=nadam,  # Adam experiment.\n",
    "    loss='categorical_crossentropy',\n",
    "    metrics=['accuracy'],\n",
    ")\n",
    "\n",
    "# Just run each step independently. Keras has no callback for this.\n",
    "exp5_results = model.fit(\n",
    "    train_images,\n",
    "    to_categorical(train_labels),\n",
    "    epochs=2,\n",
    "    batch_size=batch_size,\n",
    "    validation_data=(test_images, to_categorical(test_labels)),\n",
    "    callbacks=[time_callback]\n",
    ")\n",
    "time_tmp = time_callback.time\n",
    "tmp_results = model.fit(\n",
    "    train_images,\n",
    "    to_categorical(train_labels),\n",
    "    epochs=2,\n",
    "    batch_size=batch_size * 5,\n",
    "    validation_data=(test_images, to_categorical(test_labels)),\n",
    "    callbacks=[time_callback]\n",
    ")\n",
    "time_tmp += time_callback.time\n",
    "\n",
    "for i in tmp_results.history.keys():\n",
    "    exp5_results.history[i].extend(tmp_results.history[i])\n",
    "\n",
    "tmp_results = model.fit(\n",
    "    train_images,\n",
    "    to_categorical(train_labels),\n",
    "    epochs=2,\n",
    "    batch_size=batch_size * 25,\n",
    "    validation_data=(test_images, to_categorical(test_labels)),\n",
    "    callbacks=[time_callback]\n",
    ")\n",
    "time_tmp += time_callback.time\n",
    "\n",
    "for i in tmp_results.history.keys():\n",
    "    exp5_results.history[i].extend(tmp_results.history[i])"
   ]
  },
  {
   "cell_type": "code",
   "execution_count": 18,
   "metadata": {},
   "outputs": [
    {
     "name": "stdout",
     "output_type": "stream",
     "text": [
      "{'loss': [0.4910899055997531, 0.22297070593262713, 0.17013441920280456, 0.15888296980410815, 0.14949942473322153, 0.14759662002325058], 'acc': [0.8644, 0.93558335, 0.95281667, 0.95601666, 0.9587167, 0.95875], 'val_loss': [0.2520021337270737, 0.17961593367159367, 0.1645421724766493, 0.15270891599357128, 0.15048576891422272, 0.1490233950316906], 'val_acc': [0.9291, 0.9502, 0.952, 0.9556, 0.9563, 0.9569]}\n",
      "[35.15199947357178, 33.190999269485474, 34.424999475479126, 36.926000356674194, 33.8219997882843]\n"
     ]
    }
   ],
   "source": [
    "print(exp5_results.history)\n",
    "times.append(time_tmp)\n",
    "print(times)"
   ]
  },
  {
   "cell_type": "markdown",
   "metadata": {},
   "source": [
    "## Experiment 6: Adam, hybrid."
   ]
  },
  {
   "cell_type": "code",
   "execution_count": 19,
   "metadata": {},
   "outputs": [],
   "source": [
    "def hybrid_lr_decay_adam(epoch):\n",
    "    # Start off from the constant learning rate from the hybrid's initialization.\n",
    "    initial_lrate=0.001 #initial learning rate for Adam's Keras's default = 0.001\n",
    "    drop=0.2\n",
    "    epochs_drop=2.0\n",
    "    current_rate = initial_lrate * math.pow(drop, math.floor(epoch / epochs_drop))\n",
    "    print(\"Epoch %d learning rate: %f\" % (epoch + 1, current_rate))\n",
    "    return current_rate\n",
    "\n",
    "hybrid_lr_scheduler_adam = LearningRateScheduler(hybrid_lr_decay_adam)"
   ]
  },
  {
   "cell_type": "code",
   "execution_count": 20,
   "metadata": {},
   "outputs": [
    {
     "name": "stdout",
     "output_type": "stream",
     "text": [
      "Train on 60000 samples, validate on 10000 samples\n",
      "Epoch 1/2\n",
      "60000/60000 [==============================] - 6s 103us/sample - loss: 0.4227 - acc: 0.8816 - val_loss: 0.2209 - val_acc: 0.9368\n",
      "Epoch 2/2\n",
      "60000/60000 [==============================] - 6s 100us/sample - loss: 0.1961 - acc: 0.9441 - val_loss: 0.1626 - val_acc: 0.9535\n",
      "Train on 60000 samples, validate on 10000 samples\n",
      "Epoch 1 learning rate: 0.001000\n",
      "Epoch 1/4\n",
      "60000/60000 [==============================] - 5s 91us/sample - loss: 0.1461 - acc: 0.9588 - val_loss: 0.1492 - val_acc: 0.9576\n",
      "Epoch 2 learning rate: 0.001000\n",
      "Epoch 2/4\n",
      "60000/60000 [==============================] - 5s 91us/sample - loss: 0.1355 - acc: 0.9627 - val_loss: 0.1397 - val_acc: 0.9604\n",
      "Epoch 3 learning rate: 0.000200\n",
      "Epoch 3/4\n",
      "60000/60000 [==============================] - 5s 91us/sample - loss: 0.1265 - acc: 0.9644 - val_loss: 0.1365 - val_acc: 0.9616\n",
      "Epoch 4 learning rate: 0.000200\n",
      "Epoch 4/4\n",
      "60000/60000 [==============================] - 6s 92us/sample - loss: 0.1237 - acc: 0.9660 - val_loss: 0.1346 - val_acc: 0.9619\n"
     ]
    }
   ],
   "source": [
    "reset_weights(model)\n",
    "nadam = Nadam() #The paper uses the default settings for Adam\n",
    "\n",
    "model.compile(\n",
    "    optimizer=nadam,  # Adam experiment.\n",
    "    loss='categorical_crossentropy',\n",
    "    metrics=['accuracy'],\n",
    ")\n",
    "\n",
    "# Run a step, and then increase the batch size manually. The decay scheduler\n",
    "# will decay the learning rate in the next step.\n",
    "exp6_results = model.fit(\n",
    "    train_images,\n",
    "    to_categorical(train_labels),\n",
    "    epochs=2,\n",
    "    batch_size=batch_size,\n",
    "    validation_data=(test_images, to_categorical(test_labels)),\n",
    "    callbacks=[time_callback]\n",
    ")\n",
    "time_tmp = time_callback.time\n",
    "\n",
    "tmp_results = model.fit(\n",
    "    train_images,\n",
    "    to_categorical(train_labels),\n",
    "    epochs=4,\n",
    "    batch_size=batch_size * 5,\n",
    "    validation_data=(test_images, to_categorical(test_labels)),\n",
    "    callbacks=[hybrid_lr_scheduler_adam, time_callback]\n",
    ")\n",
    "time_tmp += time_callback.time\n",
    "\n",
    "for i in tmp_results.history.keys():\n",
    "    if i == 'lr':\n",
    "        continue\n",
    "    exp6_results.history[i].extend(tmp_results.history[i])"
   ]
  },
  {
   "cell_type": "code",
   "execution_count": 21,
   "metadata": {},
   "outputs": [
    {
     "name": "stdout",
     "output_type": "stream",
     "text": [
      "{'loss': [0.4227435835202535, 0.1960861801231901, 0.14613503515720366, 0.13546914253383874, 0.1265472526351611, 0.123703837270538], 'acc': [0.88155, 0.94413334, 0.9588, 0.9626667, 0.9644, 0.96603334], 'val_loss': [0.22089868545532226, 0.162645605802536, 0.1491612307727337, 0.13969728760421277, 0.13652907609939574, 0.13458913564682007], 'val_acc': [0.9368, 0.9535, 0.9576, 0.9604, 0.9616, 0.9619]}\n",
      "[35.15199947357178, 33.190999269485474, 34.424999475479126, 36.926000356674194, 33.8219997882843, 34.14800000190735]\n"
     ]
    }
   ],
   "source": [
    "print(exp6_results.history)\n",
    "times.append(time_tmp)\n",
    "print(times)"
   ]
  },
  {
   "cell_type": "markdown",
   "metadata": {},
   "source": [
    "## Experiment 7: SGD with momentum, decaying learning rate."
   ]
  },
  {
   "cell_type": "code",
   "execution_count": 22,
   "metadata": {},
   "outputs": [
    {
     "name": "stdout",
     "output_type": "stream",
     "text": [
      "Train on 60000 samples, validate on 10000 samples\n",
      "Epoch 1 learning rate: 0.150000\n",
      "Epoch 1/6\n",
      "60000/60000 [==============================] - 6s 99us/sample - loss: nan - acc: 0.0999 - val_loss: nan - val_acc: 0.0980\n",
      "Epoch 2 learning rate: 0.150000\n",
      "Epoch 2/6\n",
      "60000/60000 [==============================] - 6s 98us/sample - loss: nan - acc: 0.0987 - val_loss: nan - val_acc: 0.0980\n",
      "Epoch 3 learning rate: 0.030000\n",
      "Epoch 3/6\n",
      "60000/60000 [==============================] - 6s 98us/sample - loss: nan - acc: 0.0987 - val_loss: nan - val_acc: 0.0980\n",
      "Epoch 4 learning rate: 0.030000\n",
      "Epoch 4/6\n",
      "60000/60000 [==============================] - 6s 98us/sample - loss: nan - acc: 0.0987 - val_loss: nan - val_acc: 0.0980\n",
      "Epoch 5 learning rate: 0.006000\n",
      "Epoch 5/6\n",
      "60000/60000 [==============================] - 6s 99us/sample - loss: nan - acc: 0.0987 - val_loss: nan - val_acc: 0.0980\n",
      "Epoch 6 learning rate: 0.006000\n",
      "Epoch 6/6\n",
      "60000/60000 [==============================] - 6s 97us/sample - loss: nan - acc: 0.0987 - val_loss: nan - val_acc: 0.0980\n"
     ]
    }
   ],
   "source": [
    "reset_weights(model)\n",
    "learning_rate = 0.07  # Set a new constant.\n",
    "momentum = 0.1\n",
    "sgd = SGD(lr=learning_rate, momentum=momentum, decay=decay_rate, nesterov=True)\n",
    "\n",
    "model.compile(\n",
    "    optimizer=sgd,  # Vanilla SGD experiment.\n",
    "    loss='categorical_crossentropy',\n",
    "    metrics=['accuracy'],\n",
    ")\n",
    "\n",
    "# Train the model.\n",
    "decay_lr_scheduler = LearningRateScheduler(step_lr_decay)\n",
    "\n",
    "exp7_results = model.fit(\n",
    "    train_images,\n",
    "    to_categorical(train_labels),\n",
    "    epochs=epochs,\n",
    "    batch_size=batch_size,\n",
    "    validation_data=(test_images, to_categorical(test_labels)),\n",
    "    callbacks=[decay_lr_scheduler, time_callback]\n",
    ")"
   ]
  },
  {
   "cell_type": "code",
   "execution_count": 23,
   "metadata": {},
   "outputs": [
    {
     "name": "stdout",
     "output_type": "stream",
     "text": [
      "{'loss': [nan, nan, nan, nan, nan, nan], 'acc': [0.09991667, 0.09871667, 0.09871667, 0.09871667, 0.09871667, 0.09871667], 'val_loss': [nan, nan, nan, nan, nan, nan], 'val_acc': [0.098, 0.098, 0.098, 0.098, 0.098, 0.098], 'lr': [0.15, 0.15, 0.03, 0.03, 0.006, 0.006]}\n",
      "[35.15199947357178, 33.190999269485474, 34.424999475479126, 36.926000356674194, 33.8219997882843, 34.14800000190735, 35.31700015068054]\n"
     ]
    }
   ],
   "source": [
    "print(exp7_results.history)\n",
    "times.append(time_callback.time)\n",
    "print(times)"
   ]
  },
  {
   "cell_type": "markdown",
   "metadata": {},
   "source": [
    "## Experiment 8: SGD with momentum, increasing batch size."
   ]
  },
  {
   "cell_type": "code",
   "execution_count": 24,
   "metadata": {},
   "outputs": [
    {
     "name": "stdout",
     "output_type": "stream",
     "text": [
      "Train on 60000 samples, validate on 10000 samples\n",
      "Epoch 1/2\n",
      "60000/60000 [==============================] - 6s 101us/sample - loss: nan - acc: 0.0987 - val_loss: nan - val_acc: 0.0980\n",
      "Epoch 2/2\n",
      "60000/60000 [==============================] - 6s 98us/sample - loss: nan - acc: 0.0987 - val_loss: nan - val_acc: 0.0980\n",
      "Train on 60000 samples, validate on 10000 samples\n",
      "Epoch 1/2\n",
      "60000/60000 [==============================] - 5s 91us/sample - loss: nan - acc: 0.0987 - val_loss: nan - val_acc: 0.0980\n",
      "Epoch 2/2\n",
      "60000/60000 [==============================] - 5s 91us/sample - loss: nan - acc: 0.0987 - val_loss: nan - val_acc: 0.0980\n",
      "Train on 60000 samples, validate on 10000 samples\n",
      "Epoch 1/2\n",
      "60000/60000 [==============================] - 5s 80us/sample - loss: nan - acc: 0.0987 - val_loss: nan - val_acc: 0.0980\n",
      "Epoch 2/2\n",
      "60000/60000 [==============================] - 5s 80us/sample - loss: nan - acc: 0.0987 - val_loss: nan - val_acc: 0.0980\n"
     ]
    }
   ],
   "source": [
    "reset_weights(model)\n",
    "momentum = 0.1\n",
    "sgd = SGD(lr=learning_rate, momentum=momentum, decay=decay_rate, nesterov=False)\n",
    "\n",
    "model.compile(\n",
    "    optimizer=sgd,  # Vanilla SGD experiment.\n",
    "    loss='categorical_crossentropy',\n",
    "    metrics=['accuracy'],\n",
    ")\n",
    "\n",
    "# Just run each step independently. Keras has no callback for this.\n",
    "exp8_results = model.fit(\n",
    "    train_images,\n",
    "    to_categorical(train_labels),\n",
    "    epochs=2,\n",
    "    batch_size=batch_size,\n",
    "    validation_data=(test_images, to_categorical(test_labels)),\n",
    "    callbacks=[time_callback]\n",
    ")\n",
    "time_tmp = time_callback.time\n",
    "\n",
    "tmp_results = model.fit(\n",
    "    train_images,\n",
    "    to_categorical(train_labels),\n",
    "    epochs=2,\n",
    "    batch_size=batch_size * 5,\n",
    "    validation_data=(test_images, to_categorical(test_labels)),\n",
    "    callbacks=[time_callback]\n",
    ")\n",
    "time_tmp += time_callback.time\n",
    "\n",
    "for i in tmp_results.history.keys():\n",
    "    exp8_results.history[i].extend(tmp_results.history[i])\n",
    "\n",
    "tmp_results = model.fit(\n",
    "    train_images,\n",
    "    to_categorical(train_labels),\n",
    "    epochs=2,\n",
    "    batch_size=batch_size * 25,\n",
    "    validation_data=(test_images, to_categorical(test_labels)),\n",
    "    callbacks=[time_callback]\n",
    ")\n",
    "time_tmp += time_callback.time\n",
    "\n",
    "for i in tmp_results.history.keys():\n",
    "    exp8_results.history[i].extend(tmp_results.history[i])\n"
   ]
  },
  {
   "cell_type": "code",
   "execution_count": 25,
   "metadata": {
    "scrolled": false
   },
   "outputs": [
    {
     "name": "stdout",
     "output_type": "stream",
     "text": [
      "{'loss': [nan, nan, nan, nan, nan, nan], 'acc': [0.09871667, 0.09871667, 0.09871667, 0.09871667, 0.09871667, 0.09871667], 'val_loss': [nan, nan, nan, nan, nan, nan], 'val_acc': [0.098, 0.098, 0.098, 0.098, 0.098, 0.098]}\n",
      "[35.15199947357178, 33.190999269485474, 34.424999475479126, 36.926000356674194, 33.8219997882843, 34.14800000190735, 35.31700015068054, 32.45899987220764]\n"
     ]
    }
   ],
   "source": [
    "print(exp8_results.history)\n",
    "times.append(time_tmp)\n",
    "print(times)"
   ]
  },
  {
   "cell_type": "markdown",
   "metadata": {},
   "source": [
    "## Experiment 9: SGD with momentum, hybrid."
   ]
  },
  {
   "cell_type": "code",
   "execution_count": 26,
   "metadata": {},
   "outputs": [
    {
     "name": "stdout",
     "output_type": "stream",
     "text": [
      "Train on 60000 samples, validate on 10000 samples\n",
      "Epoch 1/2\n",
      "60000/60000 [==============================] - 6s 100us/sample - loss: nan - acc: 0.0987 - val_loss: nan - val_acc: 0.0980\n",
      "Epoch 2/2\n",
      "60000/60000 [==============================] - 6s 99us/sample - loss: nan - acc: 0.0987 - val_loss: nan - val_acc: 0.0980\n",
      "Train on 60000 samples, validate on 10000 samples\n",
      "Epoch 1 learning rate: 0.050000\n",
      "Epoch 1/4\n",
      "60000/60000 [==============================] - 6s 92us/sample - loss: nan - acc: 0.0987 - val_loss: nan - val_acc: 0.0980\n",
      "Epoch 2 learning rate: 0.050000\n",
      "Epoch 2/4\n",
      "60000/60000 [==============================] - 5s 91us/sample - loss: nan - acc: 0.0987 - val_loss: nan - val_acc: 0.0980\n",
      "Epoch 3 learning rate: 0.010000\n",
      "Epoch 3/4\n",
      "60000/60000 [==============================] - 5s 90us/sample - loss: nan - acc: 0.0987 - val_loss: nan - val_acc: 0.0980\n",
      "Epoch 4 learning rate: 0.010000\n",
      "Epoch 4/4\n",
      "60000/60000 [==============================] - 5s 90us/sample - loss: nan - acc: 0.0987 - val_loss: nan - val_acc: 0.0980\n"
     ]
    }
   ],
   "source": [
    "reset_weights(model)\n",
    "learning_rate = 0.05  # Set a new constant.\n",
    "momentum = 0.1\n",
    "sgd = SGD(lr=learning_rate, momentum=momentum, decay=decay_rate, nesterov=False)\n",
    "\n",
    "model.compile(\n",
    "    optimizer=sgd,  # Vanilla SGD experiment.\n",
    "    loss='categorical_crossentropy',\n",
    "    metrics=['accuracy'],\n",
    ")\n",
    "\n",
    "# Run a step, and then increase the batch size manually. The decay scheduler\n",
    "# will decay the learning rate in the next step.\n",
    "exp9_results = model.fit(\n",
    "    train_images,\n",
    "    to_categorical(train_labels),\n",
    "    epochs=2,\n",
    "    batch_size=batch_size,\n",
    "    validation_data=(test_images, to_categorical(test_labels)),\n",
    "    callbacks=[time_callback]\n",
    ")\n",
    "time_tmp = time_callback.time\n",
    "\n",
    "tmp_results = model.fit(\n",
    "    train_images,\n",
    "    to_categorical(train_labels),\n",
    "    epochs=4,\n",
    "    batch_size=batch_size * 5,\n",
    "    validation_data=(test_images, to_categorical(test_labels)),\n",
    "    callbacks=[hybrid_lr_scheduler, time_callback]\n",
    ")\n",
    "time_tmp += time_callback.time\n",
    "\n",
    "for i in tmp_results.history.keys():\n",
    "    if i == 'lr':\n",
    "        continue\n",
    "    exp9_results.history[i].extend(tmp_results.history[i])"
   ]
  },
  {
   "cell_type": "code",
   "execution_count": 27,
   "metadata": {},
   "outputs": [
    {
     "name": "stdout",
     "output_type": "stream",
     "text": [
      "{'loss': [nan, nan, nan, nan, nan, nan], 'acc': [0.09871667, 0.09871667, 0.09871667, 0.09871667, 0.09871667, 0.09871667], 'val_loss': [nan, nan, nan, nan, nan, nan], 'val_acc': [0.098, 0.098, 0.098, 0.098, 0.098, 0.098]}\n",
      "[35.15199947357178, 33.190999269485474, 34.424999475479126, 36.926000356674194, 33.8219997882843, 34.14800000190735, 35.31700015068054, 32.45899987220764, 33.70599937438965]\n"
     ]
    }
   ],
   "source": [
    "print(exp9_results.history)\n",
    "times.append(time_tmp)\n",
    "print(times)"
   ]
  },
  {
   "cell_type": "markdown",
   "metadata": {},
   "source": [
    "## Experiment 1-3 Plots"
   ]
  },
  {
   "cell_type": "code",
   "execution_count": 28,
   "metadata": {},
   "outputs": [],
   "source": [
    "import matplotlib\n",
    "import matplotlib.pyplot as plt"
   ]
  },
  {
   "cell_type": "code",
   "execution_count": 29,
   "metadata": {},
   "outputs": [
    {
     "data": {
      "image/png": "[encoded data removed]",
      "text/plain": [
       "<Figure size 432x288 with 1 Axes>"
      ]
     },
     "metadata": {
      "needs_background": "light"
     },
     "output_type": "display_data"
    }
   ],
   "source": [
    "f_vanillasgd, a_vanillasgd = plt.subplots()\n",
    "a_vanillasgd.plot(range(1,7), exp1_results.history[\"val_acc\"], label=\"Decaying L-rate\")\n",
    "a_vanillasgd.plot(range(1,7), exp3_results.history[\"val_acc\"], label=\"Hybrid\")\n",
    "a_vanillasgd.plot(range(1,7), exp2_results.history[\"val_acc\"], label=\"Increasing Batch\")\n",
    "\n",
    "legend = a_vanillasgd.legend(loc='lower right', shadow=True, fontsize='medium')\n",
    "a_vanillasgd.set(xlabel='epochs', ylabel='val acc', title='Vanilla SGD')\n",
    "a_vanillasgd.grid()\n",
    "\n",
    "f_vanillasgd.savefig(\"vanilla_sgd.png\")"
   ]
  },
  {
   "cell_type": "markdown",
   "metadata": {},
   "source": [
    "## Experiment 4-6 Plots"
   ]
  },
  {
   "cell_type": "code",
   "execution_count": 30,
   "metadata": {},
   "outputs": [
    {
     "data": {
      "image/png": "[encoded data removed]",
      "text/plain": [
       "<Figure size 432x288 with 1 Axes>"
      ]
     },
     "metadata": {
      "needs_background": "light"
     },
     "output_type": "display_data"
    }
   ],
   "source": [
    "f_adam, a_adam = plt.subplots()\n",
    "a_adam.plot(range(1,7), exp4_results.history[\"val_acc\"], label=\"Decaying L-rate\")\n",
    "a_adam.plot(range(1,7), exp6_results.history[\"val_acc\"], label=\"Hybrid\")\n",
    "a_adam.plot(range(1,7), exp5_results.history[\"val_acc\"], label=\"Increasing Batch\")\n",
    "\n",
    "legend = a_adam.legend(loc='lower right', shadow=True, fontsize='medium')\n",
    "a_adam.set(xlabel='epochs', ylabel='val acc', title='Adam')\n",
    "a_adam.grid()\n",
    "\n",
    "f_adam.savefig(\"adam.png\")"
   ]
  },
  {
   "cell_type": "markdown",
   "metadata": {},
   "source": [
    "## Experiment 7-9 Plots"
   ]
  },
  {
   "cell_type": "code",
   "execution_count": 31,
   "metadata": {},
   "outputs": [
    {
     "data": {
      "image/png": "[encoded data removed]",
      "text/plain": [
       "<Figure size 432x288 with 1 Axes>"
      ]
     },
     "metadata": {
      "needs_background": "light"
     },
     "output_type": "display_data"
    }
   ],
   "source": [
    "f_sgdm, a_sgdm = plt.subplots()\n",
    "a_sgdm.plot(range(1,7), exp7_results.history[\"val_acc\"], label=\"Decaying L-rate\")\n",
    "a_sgdm.plot(range(1,7), exp9_results.history[\"val_acc\"], label=\"Hybrid\")\n",
    "a_sgdm.plot(range(1,7), exp8_results.history[\"val_acc\"], label=\"Increasing Batch\")\n",
    "\n",
    "legend = a_sgdm.legend(loc='lower right', shadow=True, fontsize='medium')\n",
    "a_sgdm.set(xlabel='epochs', ylabel='val acc', title='SGD with momentum')\n",
    "a_sgdm.grid()\n",
    "\n",
    "f_sgdm.savefig(\"sgd_with_momentum.png\")"
   ]
  },
  {
   "cell_type": "markdown",
   "metadata": {},
   "source": [
    "## Time comparison (1-3)"
   ]
  },
  {
   "cell_type": "code",
   "execution_count": 32,
   "metadata": {
    "scrolled": true
   },
   "outputs": [
    {
     "data": {
      "image/png": "[encoded data removed]",
      "text/plain": [
       "<Figure size 432x288 with 1 Axes>"
      ]
     },
     "metadata": {
      "needs_background": "light"
     },
     "output_type": "display_data"
    }
   ],
   "source": [
    "objects = ('Decay L_rate', 'Inc. Batch', 'Hybrid')\n",
    "y_pos = np.arange(len(objects))\n",
    "performance = times[0:3]\n",
    "\n",
    "plt.bar(y_pos, performance, align='center', alpha=0.5)\n",
    "plt.xticks(y_pos, objects)\n",
    "plt.ylabel('Time (sec)')\n",
    "plt.title('Vanilla SGD Training Time')\n",
    "\n",
    "plt.show()\n",
    "#plt.savefig(\"vanillaSGD_time.png\")"
   ]
  },
  {
   "cell_type": "markdown",
   "metadata": {},
   "source": [
    "## Time comparison (4-6)"
   ]
  },
  {
   "cell_type": "code",
   "execution_count": 33,
   "metadata": {},
   "outputs": [
    {
     "data": {
      "image/png": "[encoded data removed]",
      "text/plain": [
       "<Figure size 432x288 with 1 Axes>"
      ]
     },
     "metadata": {
      "needs_background": "light"
     },
     "output_type": "display_data"
    }
   ],
   "source": [
    "objects = ('Decay L_rate', 'Inc. Batch', 'Hybrid')\n",
    "y_pos = np.arange(len(objects))\n",
    "performance = times[3:6]\n",
    "\n",
    "plt.bar(y_pos, performance, align='center', alpha=0.5)\n",
    "plt.xticks(y_pos, objects)\n",
    "plt.ylabel('Time (sec)')\n",
    "plt.title('Adam Training Time')\n",
    "\n",
    "plt.show()"
   ]
  },
  {
   "cell_type": "code",
   "execution_count": 34,
   "metadata": {},
   "outputs": [
    {
     "data": {
      "image/png": "[encoded data removed]",
      "text/plain": [
       "<Figure size 432x288 with 1 Axes>"
      ]
     },
     "metadata": {
      "needs_background": "light"
     },
     "output_type": "display_data"
    }
   ],
   "source": [
    "objects = ('Decay L_rate', 'Inc. Batch', 'Hybrid')\n",
    "y_pos = np.arange(len(objects))\n",
    "performance = times[6:9]\n",
    "\n",
    "plt.bar(y_pos, performance, align='center', alpha=0.5)\n",
    "plt.xticks(y_pos, objects)\n",
    "plt.ylabel('Time (sec)')\n",
    "plt.title('SGD with Momentum Training Time')\n",
    "\n",
    "plt.show()"
   ]
  }
 ],
 "metadata": {
  "kernelspec": {
   "display_name": "Python 3",
   "language": "python",
   "name": "python3"
  },
  "language_info": {
   "codemirror_mode": {
    "name": "ipython",
    "version": 3
   },
   "file_extension": ".py",
   "mimetype": "text/x-python",
   "name": "python",
   "nbconvert_exporter": "python",
   "pygments_lexer": "ipython3",
   "version": "3.7.4"
  }
 },
 "nbformat": 4,
 "nbformat_minor": 2
}
