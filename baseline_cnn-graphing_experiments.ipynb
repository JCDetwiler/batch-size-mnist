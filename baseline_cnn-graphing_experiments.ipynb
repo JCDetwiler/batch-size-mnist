{
 "cells": [
  {
   "cell_type": "markdown",
   "metadata": {},
   "source": [
    "# Code is from [this blog post](https://victorzhou.com/blog/keras-cnn-tutorial/)."
   ]
  },
  {
   "cell_type": "code",
   "execution_count": 1,
   "metadata": {},
   "outputs": [
    {
     "name": "stderr",
     "output_type": "stream",
     "text": [
      "Using TensorFlow backend.\n"
     ]
    }
   ],
   "source": [
    "import numpy as np\n",
    "import mnist\n",
    "from keras.models import Sequential\n",
    "from keras.layers import Conv2D, MaxPooling2D, Dense, Flatten\n",
    "from keras.utils import to_categorical\n",
    "from keras import callbacks as cb"
   ]
  },
  {
   "cell_type": "code",
   "execution_count": 2,
   "metadata": {},
   "outputs": [],
   "source": [
    "train_images = mnist.train_images() \n",
    "train_labels = mnist.train_labels()\n",
    "test_images = mnist.test_images()\n",
    "test_labels = mnist.test_labels()\n",
    "\n",
    "# Normalize the images.\n",
    "train_images = (train_images / 255) - 0.5\n",
    "test_images = (test_images / 255) - 0.5\n",
    "\n",
    "# Reshape the images.\n",
    "train_images = np.expand_dims(train_images, axis=3)\n",
    "test_images = np.expand_dims(test_images, axis=3)\n",
    "\n",
    "num_filters = 8\n",
    "filter_size = 3\n",
    "pool_size = 2"
   ]
  },
  {
   "cell_type": "code",
   "execution_count": 3,
   "metadata": {},
   "outputs": [],
   "source": [
    "# Build the model.\n",
    "model = Sequential([\n",
    "  Conv2D(num_filters, filter_size, input_shape=(28, 28, 1)),\n",
    "  MaxPooling2D(pool_size=pool_size),\n",
    "  Flatten(),\n",
    "  Dense(10, activation='softmax'),\n",
    "])"
   ]
  },
  {
   "cell_type": "code",
   "execution_count": 4,
   "metadata": {},
   "outputs": [],
   "source": [
    "# Compile the model.\n",
    "model.compile(\n",
    "  'adam',\n",
    "  loss='categorical_crossentropy',\n",
    "  metrics=['accuracy'],\n",
    ")"
   ]
  },
  {
   "cell_type": "code",
   "execution_count": 5,
   "metadata": {},
   "outputs": [],
   "source": [
    "class testCallback(cb.Callback):\n",
    "    def on_epoch_end(self, epoch, logs=None):\n",
    "        print('epoch finished!')"
   ]
  },
  {
   "cell_type": "code",
   "execution_count": 19,
   "metadata": {},
   "outputs": [
    {
     "name": "stdout",
     "output_type": "stream",
     "text": [
      "Train on 60000 samples, validate on 10000 samples\n",
      "Epoch 1/30\n",
      "60000/60000 [==============================] - 8s 138us/step - loss: 0.1061 - accuracy: 0.9691 - val_loss: 0.0947 - val_accuracy: 0.9718\n",
      "epoch finished!\n",
      "Epoch 2/30\n",
      "60000/60000 [==============================] - 8s 138us/step - loss: 0.0914 - accuracy: 0.9734 - val_loss: 0.0915 - val_accuracy: 0.9711\n",
      "epoch finished!\n",
      "Epoch 3/30\n",
      "60000/60000 [==============================] - 8s 138us/step - loss: 0.0826 - accuracy: 0.9758 - val_loss: 0.0872 - val_accuracy: 0.9720\n",
      "epoch finished!\n",
      "Epoch 4/30\n",
      "60000/60000 [==============================] - 8s 138us/step - loss: 0.0751 - accuracy: 0.9780 - val_loss: 0.0839 - val_accuracy: 0.9748\n",
      "epoch finished!\n",
      "Epoch 5/30\n",
      "60000/60000 [==============================] - 8s 138us/step - loss: 0.0700 - accuracy: 0.9791 - val_loss: 0.0776 - val_accuracy: 0.9757\n",
      "epoch finished!\n",
      "Epoch 6/30\n",
      "60000/60000 [==============================] - 8s 138us/step - loss: 0.0655 - accuracy: 0.9807 - val_loss: 0.0772 - val_accuracy: 0.9765\n",
      "epoch finished!\n",
      "Epoch 7/30\n",
      "60000/60000 [==============================] - 8s 138us/step - loss: 0.0615 - accuracy: 0.9811 - val_loss: 0.0771 - val_accuracy: 0.9774\n",
      "epoch finished!\n",
      "Epoch 8/30\n",
      "60000/60000 [==============================] - 8s 136us/step - loss: 0.0589 - accuracy: 0.9819 - val_loss: 0.0780 - val_accuracy: 0.9755\n",
      "epoch finished!\n",
      "Epoch 9/30\n",
      "60000/60000 [==============================] - 8s 139us/step - loss: 0.0555 - accuracy: 0.9833 - val_loss: 0.0806 - val_accuracy: 0.9749\n",
      "epoch finished!\n",
      "Epoch 10/30\n",
      "60000/60000 [==============================] - 8s 139us/step - loss: 0.0526 - accuracy: 0.9838 - val_loss: 0.0769 - val_accuracy: 0.9749\n",
      "epoch finished!\n",
      "Epoch 11/30\n",
      "60000/60000 [==============================] - 8s 138us/step - loss: 0.0503 - accuracy: 0.9845 - val_loss: 0.0805 - val_accuracy: 0.9745\n",
      "epoch finished!\n",
      "Epoch 12/30\n",
      "60000/60000 [==============================] - 8s 139us/step - loss: 0.0482 - accuracy: 0.9853 - val_loss: 0.0823 - val_accuracy: 0.9748\n",
      "epoch finished!\n",
      "Epoch 13/30\n",
      "60000/60000 [==============================] - 8s 139us/step - loss: 0.0461 - accuracy: 0.9860 - val_loss: 0.0739 - val_accuracy: 0.9783\n",
      "epoch finished!\n",
      "Epoch 14/30\n",
      "60000/60000 [==============================] - 8s 136us/step - loss: 0.0442 - accuracy: 0.9862 - val_loss: 0.0776 - val_accuracy: 0.9750\n",
      "epoch finished!\n",
      "Epoch 15/30\n",
      "60000/60000 [==============================] - 8s 136us/step - loss: 0.0423 - accuracy: 0.9872 - val_loss: 0.0782 - val_accuracy: 0.9773\n",
      "epoch finished!\n",
      "Epoch 16/30\n",
      "60000/60000 [==============================] - 8s 137us/step - loss: 0.0410 - accuracy: 0.9872 - val_loss: 0.0762 - val_accuracy: 0.9774\n",
      "epoch finished!\n",
      "Epoch 17/30\n",
      "60000/60000 [==============================] - 8s 136us/step - loss: 0.0383 - accuracy: 0.9881 - val_loss: 0.0869 - val_accuracy: 0.9745\n",
      "epoch finished!\n",
      "Epoch 18/30\n",
      "60000/60000 [==============================] - 8s 137us/step - loss: 0.0377 - accuracy: 0.9877 - val_loss: 0.0854 - val_accuracy: 0.9763\n",
      "epoch finished!\n",
      "Epoch 19/30\n",
      "60000/60000 [==============================] - 8s 136us/step - loss: 0.0362 - accuracy: 0.9886 - val_loss: 0.0814 - val_accuracy: 0.9769\n",
      "epoch finished!\n",
      "Epoch 20/30\n",
      "60000/60000 [==============================] - 8s 137us/step - loss: 0.0349 - accuracy: 0.9889 - val_loss: 0.0785 - val_accuracy: 0.9764\n",
      "epoch finished!\n",
      "Epoch 21/30\n",
      "60000/60000 [==============================] - 8s 136us/step - loss: 0.0338 - accuracy: 0.9891 - val_loss: 0.0813 - val_accuracy: 0.9754\n",
      "epoch finished!\n",
      "Epoch 22/30\n",
      "60000/60000 [==============================] - 8s 136us/step - loss: 0.0318 - accuracy: 0.9901 - val_loss: 0.0850 - val_accuracy: 0.9761\n",
      "epoch finished!\n",
      "Epoch 23/30\n",
      "60000/60000 [==============================] - 8s 137us/step - loss: 0.0313 - accuracy: 0.9902 - val_loss: 0.0852 - val_accuracy: 0.9761\n",
      "epoch finished!\n",
      "Epoch 24/30\n",
      "60000/60000 [==============================] - 8s 137us/step - loss: 0.0298 - accuracy: 0.9908 - val_loss: 0.0835 - val_accuracy: 0.9775\n",
      "epoch finished!\n",
      "Epoch 25/30\n",
      "60000/60000 [==============================] - 8s 137us/step - loss: 0.0284 - accuracy: 0.9912 - val_loss: 0.0839 - val_accuracy: 0.9765\n",
      "epoch finished!\n",
      "Epoch 26/30\n",
      "60000/60000 [==============================] - 8s 137us/step - loss: 0.0278 - accuracy: 0.9911 - val_loss: 0.0914 - val_accuracy: 0.9755\n",
      "epoch finished!\n",
      "Epoch 27/30\n",
      "60000/60000 [==============================] - 8s 137us/step - loss: 0.0265 - accuracy: 0.9919 - val_loss: 0.0899 - val_accuracy: 0.9756\n",
      "epoch finished!\n",
      "Epoch 28/30\n",
      "60000/60000 [==============================] - 8s 137us/step - loss: 0.0258 - accuracy: 0.9919 - val_loss: 0.0919 - val_accuracy: 0.9766\n",
      "epoch finished!\n",
      "Epoch 29/30\n",
      "60000/60000 [==============================] - 8s 136us/step - loss: 0.0247 - accuracy: 0.9923 - val_loss: 0.0931 - val_accuracy: 0.9771\n",
      "epoch finished!\n",
      "Epoch 30/30\n",
      "60000/60000 [==============================] - 8s 137us/step - loss: 0.0239 - accuracy: 0.9923 - val_loss: 0.0951 - val_accuracy: 0.9752\n",
      "epoch finished!\n"
     ]
    }
   ],
   "source": [
    "# Train the model.\n",
    "result = model.fit(\n",
    "  train_images,\n",
    "  to_categorical(train_labels),\n",
    "  epochs=30,\n",
    "  validation_data=(test_images, to_categorical(test_labels)),\n",
    "  callbacks=[testCallback()]\n",
    ")"
   ]
  },
  {
   "cell_type": "code",
   "execution_count": 20,
   "metadata": {},
   "outputs": [
    {
     "name": "stdout",
     "output_type": "stream",
     "text": [
      "{'val_loss': [0.0947217606883496, 0.09149814995583147, 0.08715842303819954, 0.08392891092952341, 0.0775657221463509, 0.07719777573365719, 0.07708442440684884, 0.07796155415605753, 0.08058144022920169, 0.07692267868209164, 0.08046409758408554, 0.08231347252111881, 0.07390434851297177, 0.07763619159015361, 0.07820840786350891, 0.07621240934666712, 0.08693573121725348, 0.08542948164036497, 0.08139614301423717, 0.078492746322311, 0.08128331521584187, 0.08503858275066596, 0.0851800661216781, 0.08353851456964694, 0.08385036167031648, 0.09135985571148922, 0.08992228647177836, 0.09189532083197555, 0.09307946734330907, 0.09508587809799282], 'val_accuracy': [0.9718000292778015, 0.9710999727249146, 0.972000002861023, 0.9747999906539917, 0.9757000207901001, 0.9764999747276306, 0.977400004863739, 0.9754999876022339, 0.9749000072479248, 0.9749000072479248, 0.9745000004768372, 0.9747999906539917, 0.9782999753952026, 0.9750000238418579, 0.9772999882698059, 0.977400004863739, 0.9745000004768372, 0.9763000011444092, 0.9768999814987183, 0.9764000177383423, 0.9753999710083008, 0.9761000275611877, 0.9761000275611877, 0.9775000214576721, 0.9764999747276306, 0.9754999876022339, 0.975600004196167, 0.9765999913215637, 0.9771000146865845, 0.9751999974250793], 'loss': [0.1061386914998293, 0.09143452421141167, 0.08259065789207816, 0.07510709775326152, 0.06995972980515411, 0.06553584845984975, 0.061507229092220464, 0.058896159927826375, 0.055526310395946105, 0.05255899645950024, 0.05032760727992281, 0.04821698103851328, 0.04606059055082345, 0.044230373109256226, 0.042266560470856106, 0.04104946305703682, 0.038293214620323854, 0.03767848645034246, 0.036226765200379304, 0.034943680831200134, 0.0338185604533103, 0.03179941396287953, 0.03129117566627683, 0.029767496950326797, 0.028360909826366697, 0.02778666883588691, 0.026482924451164822, 0.025779469240806065, 0.024702237087467802, 0.023899064504471608], 'accuracy': [0.9690833, 0.9734167, 0.97578335, 0.978, 0.97915, 0.98065, 0.98106664, 0.98186666, 0.98326665, 0.9837833, 0.9844667, 0.9852667, 0.9860167, 0.98621666, 0.98721665, 0.98718333, 0.9881, 0.9877333, 0.98863333, 0.9889333, 0.98911667, 0.99008334, 0.9902, 0.99075, 0.99121666, 0.99111664, 0.99195, 0.99193335, 0.99228334, 0.99233335]}\n"
     ]
    }
   ],
   "source": [
    "print(result.history)"
   ]
  },
  {
   "cell_type": "code",
   "execution_count": 21,
   "metadata": {},
   "outputs": [],
   "source": [
    "import matplotlib\n",
    "import matplotlib.pyplot as plt"
   ]
  },
  {
   "cell_type": "code",
   "execution_count": 33,
   "metadata": {},
   "outputs": [
    {
     "name": "stdout",
     "output_type": "stream",
     "text": [
      "3.1.1\n"
     ]
    },
    {
     "data": {
      "image/png": "[encoded data removed]",
      "text/plain": [
       "<Figure size 432x288 with 1 Axes>"
      ]
     },
     "metadata": {
      "needs_background": "light"
     },
     "output_type": "display_data"
    }
   ],
   "source": [
    "print(matplotlib.__version__)\n",
    "\n",
    "random_vals = (50 - np.random.rand(30)) / 50\n",
    "\n",
    "fig, ax = plt.subplots()\n",
    "ax.plot(range(30), result.history['accuracy'], label=\"run1\")\n",
    "ax.plot(range(30), random_vals, label=\"run2\")\n",
    "legend = ax.legend(loc='lower right', shadow=True, fontsize='medium')\n",
    "ax.set(xlabel='epochs')\n",
    "ax.grid()\n",
    "\n",
    "fig.savefig(\"test.png\")"
   ]
  },
  {
   "cell_type": "code",
   "execution_count": null,
   "metadata": {},
   "outputs": [],
   "source": []
  }
 ],
 "metadata": {
  "kernelspec": {
   "display_name": "Python 3",
   "language": "python",
   "name": "python3"
  },
  "language_info": {
   "codemirror_mode": {
    "name": "ipython",
    "version": 3
   },
   "file_extension": ".py",
   "mimetype": "text/x-python",
   "name": "python",
   "nbconvert_exporter": "python",
   "pygments_lexer": "ipython3",
   "version": "3.7.5"
  }
 },
 "nbformat": 4,
 "nbformat_minor": 2
}
